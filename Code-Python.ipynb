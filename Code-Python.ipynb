{
 "cells": [
  {
   "cell_type": "code",
   "execution_count": 71,
   "metadata": {},
   "outputs": [],
   "source": [
    "# import necessary libraries \n",
    "import pandas as pd \n",
    "import numpy as np "
   ]
  },
  {
   "cell_type": "code",
   "execution_count": 72,
   "metadata": {},
   "outputs": [],
   "source": [
    "# load and read the data\n",
    "df = pd.read_excel(\"collection_orders_test.xlsx\")"
   ]
  },
  {
   "cell_type": "code",
   "execution_count": 73,
   "metadata": {},
   "outputs": [
    {
     "data": {
      "text/html": [
       "<div>\n",
       "<style scoped>\n",
       "    .dataframe tbody tr th:only-of-type {\n",
       "        vertical-align: middle;\n",
       "    }\n",
       "\n",
       "    .dataframe tbody tr th {\n",
       "        vertical-align: top;\n",
       "    }\n",
       "\n",
       "    .dataframe thead th {\n",
       "        text-align: right;\n",
       "    }\n",
       "</style>\n",
       "<table border=\"1\" class=\"dataframe\">\n",
       "  <thead>\n",
       "    <tr style=\"text-align: right;\">\n",
       "      <th></th>\n",
       "      <th>run_sheet_id</th>\n",
       "      <th>co_id</th>\n",
       "      <th>created_at</th>\n",
       "      <th>updated_at</th>\n",
       "      <th>delays</th>\n",
       "      <th>initial_amount</th>\n",
       "      <th>final_amount</th>\n",
       "      <th>retailer_id</th>\n",
       "      <th>status</th>\n",
       "      <th>agent_id</th>\n",
       "      <th>district_id</th>\n",
       "    </tr>\n",
       "  </thead>\n",
       "  <tbody>\n",
       "    <tr>\n",
       "      <th>0</th>\n",
       "      <td>269210</td>\n",
       "      <td>242624</td>\n",
       "      <td>2022-03-10 22:01:11</td>\n",
       "      <td>2022-03-10 22:14:30</td>\n",
       "      <td>0</td>\n",
       "      <td>1000.0</td>\n",
       "      <td>500.0</td>\n",
       "      <td>118272</td>\n",
       "      <td>PARTIALLY_COLLECTED</td>\n",
       "      <td>2231</td>\n",
       "      <td>87.0</td>\n",
       "    </tr>\n",
       "    <tr>\n",
       "      <th>1</th>\n",
       "      <td>253601</td>\n",
       "      <td>184788</td>\n",
       "      <td>2022-02-20 21:16:03</td>\n",
       "      <td>2022-02-21 16:40:05</td>\n",
       "      <td>0</td>\n",
       "      <td>1000.0</td>\n",
       "      <td>0.0</td>\n",
       "      <td>37800</td>\n",
       "      <td>FAILED</td>\n",
       "      <td>1950</td>\n",
       "      <td>35.0</td>\n",
       "    </tr>\n",
       "    <tr>\n",
       "      <th>2</th>\n",
       "      <td>250270</td>\n",
       "      <td>174631</td>\n",
       "      <td>2022-02-16 02:13:03</td>\n",
       "      <td>2022-02-16 14:22:03</td>\n",
       "      <td>0</td>\n",
       "      <td>1000.0</td>\n",
       "      <td>1000.0</td>\n",
       "      <td>37800</td>\n",
       "      <td>COLLECTED</td>\n",
       "      <td>2288</td>\n",
       "      <td>35.0</td>\n",
       "    </tr>\n",
       "    <tr>\n",
       "      <th>3</th>\n",
       "      <td>251559</td>\n",
       "      <td>178209</td>\n",
       "      <td>2022-02-18 19:32:04</td>\n",
       "      <td>2022-02-18 22:10:47</td>\n",
       "      <td>0</td>\n",
       "      <td>1000.0</td>\n",
       "      <td>1000.0</td>\n",
       "      <td>37800</td>\n",
       "      <td>COLLECTED</td>\n",
       "      <td>2288</td>\n",
       "      <td>35.0</td>\n",
       "    </tr>\n",
       "    <tr>\n",
       "      <th>4</th>\n",
       "      <td>248466</td>\n",
       "      <td>173047</td>\n",
       "      <td>2022-02-13 23:19:03</td>\n",
       "      <td>2022-02-13 23:25:07</td>\n",
       "      <td>0</td>\n",
       "      <td>1000.0</td>\n",
       "      <td>500.0</td>\n",
       "      <td>37800</td>\n",
       "      <td>PARTIALLY_COLLECTED</td>\n",
       "      <td>869</td>\n",
       "      <td>35.0</td>\n",
       "    </tr>\n",
       "  </tbody>\n",
       "</table>\n",
       "</div>"
      ],
      "text/plain": [
       "   run_sheet_id   co_id          created_at          updated_at  delays  \\\n",
       "0        269210  242624 2022-03-10 22:01:11 2022-03-10 22:14:30       0   \n",
       "1        253601  184788 2022-02-20 21:16:03 2022-02-21 16:40:05       0   \n",
       "2        250270  174631 2022-02-16 02:13:03 2022-02-16 14:22:03       0   \n",
       "3        251559  178209 2022-02-18 19:32:04 2022-02-18 22:10:47       0   \n",
       "4        248466  173047 2022-02-13 23:19:03 2022-02-13 23:25:07       0   \n",
       "\n",
       "   initial_amount  final_amount  retailer_id               status  agent_id  \\\n",
       "0          1000.0         500.0       118272  PARTIALLY_COLLECTED      2231   \n",
       "1          1000.0           0.0        37800               FAILED      1950   \n",
       "2          1000.0        1000.0        37800            COLLECTED      2288   \n",
       "3          1000.0        1000.0        37800            COLLECTED      2288   \n",
       "4          1000.0         500.0        37800  PARTIALLY_COLLECTED       869   \n",
       "\n",
       "   district_id  \n",
       "0         87.0  \n",
       "1         35.0  \n",
       "2         35.0  \n",
       "3         35.0  \n",
       "4         35.0  "
      ]
     },
     "execution_count": 73,
     "metadata": {},
     "output_type": "execute_result"
    }
   ],
   "source": [
    "# explore the data\n",
    "df.head()"
   ]
  },
  {
   "cell_type": "code",
   "execution_count": 74,
   "metadata": {},
   "outputs": [
    {
     "data": {
      "text/html": [
       "<div>\n",
       "<style scoped>\n",
       "    .dataframe tbody tr th:only-of-type {\n",
       "        vertical-align: middle;\n",
       "    }\n",
       "\n",
       "    .dataframe tbody tr th {\n",
       "        vertical-align: top;\n",
       "    }\n",
       "\n",
       "    .dataframe thead th {\n",
       "        text-align: right;\n",
       "    }\n",
       "</style>\n",
       "<table border=\"1\" class=\"dataframe\">\n",
       "  <thead>\n",
       "    <tr style=\"text-align: right;\">\n",
       "      <th></th>\n",
       "      <th>run_sheet_id</th>\n",
       "      <th>co_id</th>\n",
       "      <th>delays</th>\n",
       "      <th>initial_amount</th>\n",
       "      <th>final_amount</th>\n",
       "      <th>retailer_id</th>\n",
       "      <th>agent_id</th>\n",
       "      <th>district_id</th>\n",
       "    </tr>\n",
       "  </thead>\n",
       "  <tbody>\n",
       "    <tr>\n",
       "      <th>count</th>\n",
       "      <td>131693.000000</td>\n",
       "      <td>131693.000000</td>\n",
       "      <td>131693.000000</td>\n",
       "      <td>131693.000000</td>\n",
       "      <td>131693.000000</td>\n",
       "      <td>131693.000000</td>\n",
       "      <td>131693.000000</td>\n",
       "      <td>130136.000000</td>\n",
       "    </tr>\n",
       "    <tr>\n",
       "      <th>mean</th>\n",
       "      <td>256440.071234</td>\n",
       "      <td>206012.728695</td>\n",
       "      <td>0.067111</td>\n",
       "      <td>1362.468291</td>\n",
       "      <td>1300.645176</td>\n",
       "      <td>96839.840888</td>\n",
       "      <td>1981.358698</td>\n",
       "      <td>127.545775</td>\n",
       "    </tr>\n",
       "    <tr>\n",
       "      <th>std</th>\n",
       "      <td>34459.469064</td>\n",
       "      <td>123350.661014</td>\n",
       "      <td>0.250214</td>\n",
       "      <td>697.937277</td>\n",
       "      <td>958.895600</td>\n",
       "      <td>88307.792350</td>\n",
       "      <td>613.493759</td>\n",
       "      <td>162.091945</td>\n",
       "    </tr>\n",
       "    <tr>\n",
       "      <th>min</th>\n",
       "      <td>63129.000000</td>\n",
       "      <td>19.000000</td>\n",
       "      <td>0.000000</td>\n",
       "      <td>0.000000</td>\n",
       "      <td>0.000000</td>\n",
       "      <td>67.000000</td>\n",
       "      <td>72.000000</td>\n",
       "      <td>0.000000</td>\n",
       "    </tr>\n",
       "    <tr>\n",
       "      <th>25%</th>\n",
       "      <td>229221.000000</td>\n",
       "      <td>118625.000000</td>\n",
       "      <td>0.000000</td>\n",
       "      <td>1000.000000</td>\n",
       "      <td>1000.000000</td>\n",
       "      <td>24517.000000</td>\n",
       "      <td>1645.000000</td>\n",
       "      <td>31.000000</td>\n",
       "    </tr>\n",
       "    <tr>\n",
       "      <th>50%</th>\n",
       "      <td>261039.000000</td>\n",
       "      <td>220574.000000</td>\n",
       "      <td>0.000000</td>\n",
       "      <td>1000.000000</td>\n",
       "      <td>1000.000000</td>\n",
       "      <td>60220.000000</td>\n",
       "      <td>2068.000000</td>\n",
       "      <td>55.000000</td>\n",
       "    </tr>\n",
       "    <tr>\n",
       "      <th>75%</th>\n",
       "      <td>286277.000000</td>\n",
       "      <td>270625.000000</td>\n",
       "      <td>0.000000</td>\n",
       "      <td>1500.000000</td>\n",
       "      <td>1500.000000</td>\n",
       "      <td>175698.000000</td>\n",
       "      <td>2447.000000</td>\n",
       "      <td>106.000000</td>\n",
       "    </tr>\n",
       "    <tr>\n",
       "      <th>max</th>\n",
       "      <td>308757.000000</td>\n",
       "      <td>487993.000000</td>\n",
       "      <td>1.000000</td>\n",
       "      <td>10000.000000</td>\n",
       "      <td>30000.000000</td>\n",
       "      <td>295843.000000</td>\n",
       "      <td>3078.000000</td>\n",
       "      <td>732.000000</td>\n",
       "    </tr>\n",
       "  </tbody>\n",
       "</table>\n",
       "</div>"
      ],
      "text/plain": [
       "        run_sheet_id          co_id         delays  initial_amount  \\\n",
       "count  131693.000000  131693.000000  131693.000000   131693.000000   \n",
       "mean   256440.071234  206012.728695       0.067111     1362.468291   \n",
       "std     34459.469064  123350.661014       0.250214      697.937277   \n",
       "min     63129.000000      19.000000       0.000000        0.000000   \n",
       "25%    229221.000000  118625.000000       0.000000     1000.000000   \n",
       "50%    261039.000000  220574.000000       0.000000     1000.000000   \n",
       "75%    286277.000000  270625.000000       0.000000     1500.000000   \n",
       "max    308757.000000  487993.000000       1.000000    10000.000000   \n",
       "\n",
       "        final_amount    retailer_id       agent_id    district_id  \n",
       "count  131693.000000  131693.000000  131693.000000  130136.000000  \n",
       "mean     1300.645176   96839.840888    1981.358698     127.545775  \n",
       "std       958.895600   88307.792350     613.493759     162.091945  \n",
       "min         0.000000      67.000000      72.000000       0.000000  \n",
       "25%      1000.000000   24517.000000    1645.000000      31.000000  \n",
       "50%      1000.000000   60220.000000    2068.000000      55.000000  \n",
       "75%      1500.000000  175698.000000    2447.000000     106.000000  \n",
       "max     30000.000000  295843.000000    3078.000000     732.000000  "
      ]
     },
     "execution_count": 74,
     "metadata": {},
     "output_type": "execute_result"
    }
   ],
   "source": [
    "df.describe()"
   ]
  },
  {
   "cell_type": "code",
   "execution_count": 75,
   "metadata": {},
   "outputs": [
    {
     "name": "stdout",
     "output_type": "stream",
     "text": [
      "<class 'pandas.core.frame.DataFrame'>\n",
      "RangeIndex: 131693 entries, 0 to 131692\n",
      "Data columns (total 11 columns):\n",
      " #   Column          Non-Null Count   Dtype         \n",
      "---  ------          --------------   -----         \n",
      " 0   run_sheet_id    131693 non-null  int64         \n",
      " 1   co_id           131693 non-null  int64         \n",
      " 2   created_at      131693 non-null  datetime64[ns]\n",
      " 3   updated_at      131693 non-null  datetime64[ns]\n",
      " 4   delays          131693 non-null  int64         \n",
      " 5   initial_amount  131693 non-null  float64       \n",
      " 6   final_amount    131693 non-null  float64       \n",
      " 7   retailer_id     131693 non-null  int64         \n",
      " 8   status          131693 non-null  object        \n",
      " 9   agent_id        131693 non-null  int64         \n",
      " 10  district_id     130136 non-null  float64       \n",
      "dtypes: datetime64[ns](2), float64(3), int64(5), object(1)\n",
      "memory usage: 11.1+ MB\n"
     ]
    }
   ],
   "source": [
    "# Check the data types \n",
    "df.info()"
   ]
  },
  {
   "cell_type": "code",
   "execution_count": 76,
   "metadata": {},
   "outputs": [
    {
     "data": {
      "text/plain": [
       "(131693, 11)"
      ]
     },
     "execution_count": 76,
     "metadata": {},
     "output_type": "execute_result"
    }
   ],
   "source": [
    "df.shape"
   ]
  },
  {
   "cell_type": "code",
   "execution_count": 77,
   "metadata": {},
   "outputs": [
    {
     "data": {
      "text/plain": [
       "run_sheet_id         0\n",
       "co_id                0\n",
       "created_at           0\n",
       "updated_at           0\n",
       "delays               0\n",
       "initial_amount       0\n",
       "final_amount         0\n",
       "retailer_id          0\n",
       "status               0\n",
       "agent_id             0\n",
       "district_id       1557\n",
       "dtype: int64"
      ]
     },
     "execution_count": 77,
     "metadata": {},
     "output_type": "execute_result"
    }
   ],
   "source": [
    "# Checking for nulls \n",
    "df.isnull().sum()"
   ]
  },
  {
   "cell_type": "markdown",
   "metadata": {},
   "source": [
    "we can notice here we only have null valeus in the \" district_id \" column, we won't drop them as we dont want to lose any data so we will just replace them with \"unknow\"\n"
   ]
  },
  {
   "cell_type": "code",
   "execution_count": 78,
   "metadata": {},
   "outputs": [
    {
     "data": {
      "text/html": [
       "<div>\n",
       "<style scoped>\n",
       "    .dataframe tbody tr th:only-of-type {\n",
       "        vertical-align: middle;\n",
       "    }\n",
       "\n",
       "    .dataframe tbody tr th {\n",
       "        vertical-align: top;\n",
       "    }\n",
       "\n",
       "    .dataframe thead th {\n",
       "        text-align: right;\n",
       "    }\n",
       "</style>\n",
       "<table border=\"1\" class=\"dataframe\">\n",
       "  <thead>\n",
       "    <tr style=\"text-align: right;\">\n",
       "      <th></th>\n",
       "      <th>run_sheet_id</th>\n",
       "      <th>co_id</th>\n",
       "      <th>created_at</th>\n",
       "      <th>updated_at</th>\n",
       "      <th>delays</th>\n",
       "      <th>initial_amount</th>\n",
       "      <th>final_amount</th>\n",
       "      <th>retailer_id</th>\n",
       "      <th>status</th>\n",
       "      <th>agent_id</th>\n",
       "      <th>district_id</th>\n",
       "    </tr>\n",
       "  </thead>\n",
       "  <tbody>\n",
       "    <tr>\n",
       "      <th>684</th>\n",
       "      <td>249512</td>\n",
       "      <td>174277</td>\n",
       "      <td>2022-02-15 17:01:03</td>\n",
       "      <td>2022-02-15 17:10:27</td>\n",
       "      <td>0</td>\n",
       "      <td>1000.0</td>\n",
       "      <td>1000.0</td>\n",
       "      <td>214855</td>\n",
       "      <td>COLLECTED</td>\n",
       "      <td>2396</td>\n",
       "      <td>NaN</td>\n",
       "    </tr>\n",
       "    <tr>\n",
       "      <th>1255</th>\n",
       "      <td>296094</td>\n",
       "      <td>360985</td>\n",
       "      <td>2022-04-05 14:25:05</td>\n",
       "      <td>2022-04-05 14:31:19</td>\n",
       "      <td>0</td>\n",
       "      <td>1000.0</td>\n",
       "      <td>500.0</td>\n",
       "      <td>287576</td>\n",
       "      <td>PARTIALLY_COLLECTED</td>\n",
       "      <td>2140</td>\n",
       "      <td>NaN</td>\n",
       "    </tr>\n",
       "    <tr>\n",
       "      <th>1256</th>\n",
       "      <td>299583</td>\n",
       "      <td>396867</td>\n",
       "      <td>2022-04-08 19:15:04</td>\n",
       "      <td>2022-04-09 00:26:12</td>\n",
       "      <td>0</td>\n",
       "      <td>1000.0</td>\n",
       "      <td>500.0</td>\n",
       "      <td>287576</td>\n",
       "      <td>PARTIALLY_COLLECTED</td>\n",
       "      <td>2068</td>\n",
       "      <td>NaN</td>\n",
       "    </tr>\n",
       "    <tr>\n",
       "      <th>1257</th>\n",
       "      <td>305118</td>\n",
       "      <td>445101</td>\n",
       "      <td>2022-04-13 18:28:03</td>\n",
       "      <td>2022-04-14 00:44:25</td>\n",
       "      <td>0</td>\n",
       "      <td>1000.0</td>\n",
       "      <td>500.0</td>\n",
       "      <td>287576</td>\n",
       "      <td>PARTIALLY_COLLECTED</td>\n",
       "      <td>2068</td>\n",
       "      <td>NaN</td>\n",
       "    </tr>\n",
       "    <tr>\n",
       "      <th>1350</th>\n",
       "      <td>304786</td>\n",
       "      <td>444548</td>\n",
       "      <td>2022-04-13 17:20:06</td>\n",
       "      <td>2022-04-13 17:33:28</td>\n",
       "      <td>0</td>\n",
       "      <td>1000.0</td>\n",
       "      <td>500.0</td>\n",
       "      <td>288441</td>\n",
       "      <td>PARTIALLY_COLLECTED</td>\n",
       "      <td>2874</td>\n",
       "      <td>NaN</td>\n",
       "    </tr>\n",
       "    <tr>\n",
       "      <th>...</th>\n",
       "      <td>...</td>\n",
       "      <td>...</td>\n",
       "      <td>...</td>\n",
       "      <td>...</td>\n",
       "      <td>...</td>\n",
       "      <td>...</td>\n",
       "      <td>...</td>\n",
       "      <td>...</td>\n",
       "      <td>...</td>\n",
       "      <td>...</td>\n",
       "      <td>...</td>\n",
       "    </tr>\n",
       "    <tr>\n",
       "      <th>131322</th>\n",
       "      <td>236737</td>\n",
       "      <td>150011</td>\n",
       "      <td>2022-01-27 14:56:03</td>\n",
       "      <td>2022-01-27 15:30:57</td>\n",
       "      <td>0</td>\n",
       "      <td>1000.0</td>\n",
       "      <td>1000.0</td>\n",
       "      <td>238208</td>\n",
       "      <td>COLLECTED</td>\n",
       "      <td>2007</td>\n",
       "      <td>NaN</td>\n",
       "    </tr>\n",
       "    <tr>\n",
       "      <th>131323</th>\n",
       "      <td>234185</td>\n",
       "      <td>147564</td>\n",
       "      <td>2022-01-23 16:45:03</td>\n",
       "      <td>2022-01-23 19:04:28</td>\n",
       "      <td>0</td>\n",
       "      <td>1000.0</td>\n",
       "      <td>1000.0</td>\n",
       "      <td>238208</td>\n",
       "      <td>COLLECTED</td>\n",
       "      <td>2007</td>\n",
       "      <td>NaN</td>\n",
       "    </tr>\n",
       "    <tr>\n",
       "      <th>131324</th>\n",
       "      <td>292792</td>\n",
       "      <td>309412</td>\n",
       "      <td>2022-04-01 21:09:03</td>\n",
       "      <td>2022-04-02 13:44:17</td>\n",
       "      <td>0</td>\n",
       "      <td>1000.0</td>\n",
       "      <td>1000.0</td>\n",
       "      <td>238208</td>\n",
       "      <td>COLLECTED</td>\n",
       "      <td>2675</td>\n",
       "      <td>NaN</td>\n",
       "    </tr>\n",
       "    <tr>\n",
       "      <th>131479</th>\n",
       "      <td>290362</td>\n",
       "      <td>286989</td>\n",
       "      <td>2022-03-30 19:54:04</td>\n",
       "      <td>2022-03-30 20:53:54</td>\n",
       "      <td>0</td>\n",
       "      <td>1000.0</td>\n",
       "      <td>500.0</td>\n",
       "      <td>238895</td>\n",
       "      <td>PARTIALLY_COLLECTED</td>\n",
       "      <td>2880</td>\n",
       "      <td>NaN</td>\n",
       "    </tr>\n",
       "    <tr>\n",
       "      <th>131480</th>\n",
       "      <td>278471</td>\n",
       "      <td>256237</td>\n",
       "      <td>2022-03-20 18:12:10</td>\n",
       "      <td>2022-03-20 18:19:05</td>\n",
       "      <td>0</td>\n",
       "      <td>1000.0</td>\n",
       "      <td>1000.0</td>\n",
       "      <td>238895</td>\n",
       "      <td>COLLECTED</td>\n",
       "      <td>2204</td>\n",
       "      <td>NaN</td>\n",
       "    </tr>\n",
       "  </tbody>\n",
       "</table>\n",
       "<p>1557 rows × 11 columns</p>\n",
       "</div>"
      ],
      "text/plain": [
       "        run_sheet_id   co_id          created_at          updated_at  delays  \\\n",
       "684           249512  174277 2022-02-15 17:01:03 2022-02-15 17:10:27       0   \n",
       "1255          296094  360985 2022-04-05 14:25:05 2022-04-05 14:31:19       0   \n",
       "1256          299583  396867 2022-04-08 19:15:04 2022-04-09 00:26:12       0   \n",
       "1257          305118  445101 2022-04-13 18:28:03 2022-04-14 00:44:25       0   \n",
       "1350          304786  444548 2022-04-13 17:20:06 2022-04-13 17:33:28       0   \n",
       "...              ...     ...                 ...                 ...     ...   \n",
       "131322        236737  150011 2022-01-27 14:56:03 2022-01-27 15:30:57       0   \n",
       "131323        234185  147564 2022-01-23 16:45:03 2022-01-23 19:04:28       0   \n",
       "131324        292792  309412 2022-04-01 21:09:03 2022-04-02 13:44:17       0   \n",
       "131479        290362  286989 2022-03-30 19:54:04 2022-03-30 20:53:54       0   \n",
       "131480        278471  256237 2022-03-20 18:12:10 2022-03-20 18:19:05       0   \n",
       "\n",
       "        initial_amount  final_amount  retailer_id               status  \\\n",
       "684             1000.0        1000.0       214855            COLLECTED   \n",
       "1255            1000.0         500.0       287576  PARTIALLY_COLLECTED   \n",
       "1256            1000.0         500.0       287576  PARTIALLY_COLLECTED   \n",
       "1257            1000.0         500.0       287576  PARTIALLY_COLLECTED   \n",
       "1350            1000.0         500.0       288441  PARTIALLY_COLLECTED   \n",
       "...                ...           ...          ...                  ...   \n",
       "131322          1000.0        1000.0       238208            COLLECTED   \n",
       "131323          1000.0        1000.0       238208            COLLECTED   \n",
       "131324          1000.0        1000.0       238208            COLLECTED   \n",
       "131479          1000.0         500.0       238895  PARTIALLY_COLLECTED   \n",
       "131480          1000.0        1000.0       238895            COLLECTED   \n",
       "\n",
       "        agent_id  district_id  \n",
       "684         2396          NaN  \n",
       "1255        2140          NaN  \n",
       "1256        2068          NaN  \n",
       "1257        2068          NaN  \n",
       "1350        2874          NaN  \n",
       "...          ...          ...  \n",
       "131322      2007          NaN  \n",
       "131323      2007          NaN  \n",
       "131324      2675          NaN  \n",
       "131479      2880          NaN  \n",
       "131480      2204          NaN  \n",
       "\n",
       "[1557 rows x 11 columns]"
      ]
     },
     "execution_count": 78,
     "metadata": {},
     "output_type": "execute_result"
    }
   ],
   "source": [
    "df[df[\"district_id\"].isnull()]"
   ]
  },
  {
   "cell_type": "code",
   "execution_count": 79,
   "metadata": {},
   "outputs": [],
   "source": [
    "# fill the null values with \"unknown\"\n",
    "df.fillna(\"unknown\", inplace = True)"
   ]
  },
  {
   "cell_type": "code",
   "execution_count": 80,
   "metadata": {},
   "outputs": [
    {
     "data": {
      "text/plain": [
       "run_sheet_id      False\n",
       "co_id             False\n",
       "created_at        False\n",
       "updated_at        False\n",
       "delays            False\n",
       "initial_amount    False\n",
       "final_amount      False\n",
       "retailer_id       False\n",
       "status            False\n",
       "agent_id          False\n",
       "district_id       False\n",
       "dtype: bool"
      ]
     },
     "execution_count": 80,
     "metadata": {},
     "output_type": "execute_result"
    }
   ],
   "source": [
    "# checking\n",
    "df.isna().any()"
   ]
  },
  {
   "cell_type": "code",
   "execution_count": 81,
   "metadata": {},
   "outputs": [
    {
     "data": {
      "text/plain": [
       "False"
      ]
     },
     "execution_count": 81,
     "metadata": {},
     "output_type": "execute_result"
    }
   ],
   "source": [
    "# Checking for duplicates\n",
    "df.duplicated().any()"
   ]
  },
  {
   "cell_type": "code",
   "execution_count": 82,
   "metadata": {},
   "outputs": [
    {
     "data": {
      "text/plain": [
       "0    122855\n",
       "1      8838\n",
       "Name: delays, dtype: int64"
      ]
     },
     "execution_count": 82,
     "metadata": {},
     "output_type": "execute_result"
    }
   ],
   "source": [
    "# explore delays column\n",
    "df[\"delays\"].value_counts()"
   ]
  },
  {
   "cell_type": "code",
   "execution_count": 83,
   "metadata": {},
   "outputs": [
    {
     "data": {
      "text/plain": [
       "COLLECTED              112992\n",
       "PARTIALLY_COLLECTED      9352\n",
       "FAILED                   9349\n",
       "Name: status, dtype: int64"
      ]
     },
     "execution_count": 83,
     "metadata": {},
     "output_type": "execute_result"
    }
   ],
   "source": [
    "# explore status column\n",
    "df[\"status\"].value_counts()"
   ]
  },
  {
   "cell_type": "markdown",
   "metadata": {},
   "source": [
    "in this case we will consider \"COLLECTED\" and \"PARTIALLY_COLLECTED\" is a success and other is a fail\n",
    "we will replace \"COLLECTED \" and \"PARTIALLY_COLLECTED \" with 1 and \"FAILED\" with 0 "
   ]
  },
  {
   "cell_type": "code",
   "execution_count": 84,
   "metadata": {},
   "outputs": [],
   "source": [
    "# make a copy of the Data \n",
    "df_copy = df.replace({\"status\" :{\"COLLECTED\" : 1,\"PARTIALLY_COLLECTED\" : 1 ,\"FAILED\" :0 }})"
   ]
  },
  {
   "cell_type": "code",
   "execution_count": 85,
   "metadata": {},
   "outputs": [
    {
     "data": {
      "text/html": [
       "<div>\n",
       "<style scoped>\n",
       "    .dataframe tbody tr th:only-of-type {\n",
       "        vertical-align: middle;\n",
       "    }\n",
       "\n",
       "    .dataframe tbody tr th {\n",
       "        vertical-align: top;\n",
       "    }\n",
       "\n",
       "    .dataframe thead th {\n",
       "        text-align: right;\n",
       "    }\n",
       "</style>\n",
       "<table border=\"1\" class=\"dataframe\">\n",
       "  <thead>\n",
       "    <tr style=\"text-align: right;\">\n",
       "      <th></th>\n",
       "      <th>run_sheet_id</th>\n",
       "      <th>co_id</th>\n",
       "      <th>created_at</th>\n",
       "      <th>updated_at</th>\n",
       "      <th>delays</th>\n",
       "      <th>initial_amount</th>\n",
       "      <th>final_amount</th>\n",
       "      <th>retailer_id</th>\n",
       "      <th>status</th>\n",
       "      <th>agent_id</th>\n",
       "      <th>district_id</th>\n",
       "    </tr>\n",
       "  </thead>\n",
       "  <tbody>\n",
       "    <tr>\n",
       "      <th>0</th>\n",
       "      <td>269210</td>\n",
       "      <td>242624</td>\n",
       "      <td>2022-03-10 22:01:11</td>\n",
       "      <td>2022-03-10 22:14:30</td>\n",
       "      <td>0</td>\n",
       "      <td>1000.0</td>\n",
       "      <td>500.0</td>\n",
       "      <td>118272</td>\n",
       "      <td>1</td>\n",
       "      <td>2231</td>\n",
       "      <td>87</td>\n",
       "    </tr>\n",
       "    <tr>\n",
       "      <th>1</th>\n",
       "      <td>253601</td>\n",
       "      <td>184788</td>\n",
       "      <td>2022-02-20 21:16:03</td>\n",
       "      <td>2022-02-21 16:40:05</td>\n",
       "      <td>0</td>\n",
       "      <td>1000.0</td>\n",
       "      <td>0.0</td>\n",
       "      <td>37800</td>\n",
       "      <td>0</td>\n",
       "      <td>1950</td>\n",
       "      <td>35</td>\n",
       "    </tr>\n",
       "    <tr>\n",
       "      <th>2</th>\n",
       "      <td>250270</td>\n",
       "      <td>174631</td>\n",
       "      <td>2022-02-16 02:13:03</td>\n",
       "      <td>2022-02-16 14:22:03</td>\n",
       "      <td>0</td>\n",
       "      <td>1000.0</td>\n",
       "      <td>1000.0</td>\n",
       "      <td>37800</td>\n",
       "      <td>1</td>\n",
       "      <td>2288</td>\n",
       "      <td>35</td>\n",
       "    </tr>\n",
       "    <tr>\n",
       "      <th>3</th>\n",
       "      <td>251559</td>\n",
       "      <td>178209</td>\n",
       "      <td>2022-02-18 19:32:04</td>\n",
       "      <td>2022-02-18 22:10:47</td>\n",
       "      <td>0</td>\n",
       "      <td>1000.0</td>\n",
       "      <td>1000.0</td>\n",
       "      <td>37800</td>\n",
       "      <td>1</td>\n",
       "      <td>2288</td>\n",
       "      <td>35</td>\n",
       "    </tr>\n",
       "    <tr>\n",
       "      <th>4</th>\n",
       "      <td>248466</td>\n",
       "      <td>173047</td>\n",
       "      <td>2022-02-13 23:19:03</td>\n",
       "      <td>2022-02-13 23:25:07</td>\n",
       "      <td>0</td>\n",
       "      <td>1000.0</td>\n",
       "      <td>500.0</td>\n",
       "      <td>37800</td>\n",
       "      <td>1</td>\n",
       "      <td>869</td>\n",
       "      <td>35</td>\n",
       "    </tr>\n",
       "  </tbody>\n",
       "</table>\n",
       "</div>"
      ],
      "text/plain": [
       "   run_sheet_id   co_id          created_at          updated_at  delays  \\\n",
       "0        269210  242624 2022-03-10 22:01:11 2022-03-10 22:14:30       0   \n",
       "1        253601  184788 2022-02-20 21:16:03 2022-02-21 16:40:05       0   \n",
       "2        250270  174631 2022-02-16 02:13:03 2022-02-16 14:22:03       0   \n",
       "3        251559  178209 2022-02-18 19:32:04 2022-02-18 22:10:47       0   \n",
       "4        248466  173047 2022-02-13 23:19:03 2022-02-13 23:25:07       0   \n",
       "\n",
       "   initial_amount  final_amount  retailer_id  status  agent_id district_id  \n",
       "0          1000.0         500.0       118272       1      2231          87  \n",
       "1          1000.0           0.0        37800       0      1950          35  \n",
       "2          1000.0        1000.0        37800       1      2288          35  \n",
       "3          1000.0        1000.0        37800       1      2288          35  \n",
       "4          1000.0         500.0        37800       1       869          35  "
      ]
     },
     "execution_count": 85,
     "metadata": {},
     "output_type": "execute_result"
    }
   ],
   "source": [
    "df_copy.head()"
   ]
  },
  {
   "cell_type": "code",
   "execution_count": 86,
   "metadata": {},
   "outputs": [
    {
     "data": {
      "text/plain": [
       "1    0.929009\n",
       "0    0.070991\n",
       "Name: status, dtype: float64"
      ]
     },
     "execution_count": 86,
     "metadata": {},
     "output_type": "execute_result"
    }
   ],
   "source": [
    "# figuring out the success rate and failure rate \n",
    "df_copy[\"status\"].value_counts(normalize = True)"
   ]
  },
  {
   "cell_type": "markdown",
   "metadata": {},
   "source": [
    "##### So as we can see here the success rate is 92.3 % while the failure or error rate is 07.09 % \n",
    "and we will make further analyis to figure out what causes this error rate\n"
   ]
  },
  {
   "cell_type": "code",
   "execution_count": 87,
   "metadata": {},
   "outputs": [
    {
     "data": {
      "text/plain": [
       "312"
      ]
     },
     "execution_count": 87,
     "metadata": {},
     "output_type": "execute_result"
    }
   ],
   "source": [
    "# Checking number of unique agents \n",
    "df[\"agent_id\"].nunique()"
   ]
  },
  {
   "cell_type": "code",
   "execution_count": 88,
   "metadata": {},
   "outputs": [
    {
     "data": {
      "text/plain": [
       "11662"
      ]
     },
     "execution_count": 88,
     "metadata": {},
     "output_type": "execute_result"
    }
   ],
   "source": [
    "# Checking number of unique retailers \n",
    "df[\"retailer_id\"].nunique()"
   ]
  },
  {
   "cell_type": "markdown",
   "metadata": {},
   "source": [
    "i assume the updated_at column refers to when the collector actually showed up at the retailer and started to collect, so we will add a new column which is the difference between updated at and created at to see how fast the the collector respond to the request "
   ]
  },
  {
   "cell_type": "code",
   "execution_count": 89,
   "metadata": {},
   "outputs": [],
   "source": [
    "# add the new column \"response_in_hours\"\n",
    "df[\"response_in_hours\"] = df[\"updated_at\"] - df[\"created_at\"]"
   ]
  },
  {
   "cell_type": "code",
   "execution_count": 90,
   "metadata": {},
   "outputs": [
    {
     "data": {
      "text/html": [
       "<div>\n",
       "<style scoped>\n",
       "    .dataframe tbody tr th:only-of-type {\n",
       "        vertical-align: middle;\n",
       "    }\n",
       "\n",
       "    .dataframe tbody tr th {\n",
       "        vertical-align: top;\n",
       "    }\n",
       "\n",
       "    .dataframe thead th {\n",
       "        text-align: right;\n",
       "    }\n",
       "</style>\n",
       "<table border=\"1\" class=\"dataframe\">\n",
       "  <thead>\n",
       "    <tr style=\"text-align: right;\">\n",
       "      <th></th>\n",
       "      <th>run_sheet_id</th>\n",
       "      <th>co_id</th>\n",
       "      <th>created_at</th>\n",
       "      <th>updated_at</th>\n",
       "      <th>delays</th>\n",
       "      <th>initial_amount</th>\n",
       "      <th>final_amount</th>\n",
       "      <th>retailer_id</th>\n",
       "      <th>status</th>\n",
       "      <th>agent_id</th>\n",
       "      <th>district_id</th>\n",
       "      <th>response_in_hours</th>\n",
       "    </tr>\n",
       "  </thead>\n",
       "  <tbody>\n",
       "    <tr>\n",
       "      <th>0</th>\n",
       "      <td>269210</td>\n",
       "      <td>242624</td>\n",
       "      <td>2022-03-10 22:01:11</td>\n",
       "      <td>2022-03-10 22:14:30</td>\n",
       "      <td>0</td>\n",
       "      <td>1000.0</td>\n",
       "      <td>500.0</td>\n",
       "      <td>118272</td>\n",
       "      <td>PARTIALLY_COLLECTED</td>\n",
       "      <td>2231</td>\n",
       "      <td>87</td>\n",
       "      <td>00:13:19</td>\n",
       "    </tr>\n",
       "    <tr>\n",
       "      <th>1</th>\n",
       "      <td>253601</td>\n",
       "      <td>184788</td>\n",
       "      <td>2022-02-20 21:16:03</td>\n",
       "      <td>2022-02-21 16:40:05</td>\n",
       "      <td>0</td>\n",
       "      <td>1000.0</td>\n",
       "      <td>0.0</td>\n",
       "      <td>37800</td>\n",
       "      <td>FAILED</td>\n",
       "      <td>1950</td>\n",
       "      <td>35</td>\n",
       "      <td>19:24:02</td>\n",
       "    </tr>\n",
       "    <tr>\n",
       "      <th>2</th>\n",
       "      <td>250270</td>\n",
       "      <td>174631</td>\n",
       "      <td>2022-02-16 02:13:03</td>\n",
       "      <td>2022-02-16 14:22:03</td>\n",
       "      <td>0</td>\n",
       "      <td>1000.0</td>\n",
       "      <td>1000.0</td>\n",
       "      <td>37800</td>\n",
       "      <td>COLLECTED</td>\n",
       "      <td>2288</td>\n",
       "      <td>35</td>\n",
       "      <td>12:09:00</td>\n",
       "    </tr>\n",
       "    <tr>\n",
       "      <th>3</th>\n",
       "      <td>251559</td>\n",
       "      <td>178209</td>\n",
       "      <td>2022-02-18 19:32:04</td>\n",
       "      <td>2022-02-18 22:10:47</td>\n",
       "      <td>0</td>\n",
       "      <td>1000.0</td>\n",
       "      <td>1000.0</td>\n",
       "      <td>37800</td>\n",
       "      <td>COLLECTED</td>\n",
       "      <td>2288</td>\n",
       "      <td>35</td>\n",
       "      <td>02:38:43</td>\n",
       "    </tr>\n",
       "    <tr>\n",
       "      <th>4</th>\n",
       "      <td>248466</td>\n",
       "      <td>173047</td>\n",
       "      <td>2022-02-13 23:19:03</td>\n",
       "      <td>2022-02-13 23:25:07</td>\n",
       "      <td>0</td>\n",
       "      <td>1000.0</td>\n",
       "      <td>500.0</td>\n",
       "      <td>37800</td>\n",
       "      <td>PARTIALLY_COLLECTED</td>\n",
       "      <td>869</td>\n",
       "      <td>35</td>\n",
       "      <td>00:06:04</td>\n",
       "    </tr>\n",
       "  </tbody>\n",
       "</table>\n",
       "</div>"
      ],
      "text/plain": [
       "   run_sheet_id   co_id          created_at          updated_at  delays  \\\n",
       "0        269210  242624 2022-03-10 22:01:11 2022-03-10 22:14:30       0   \n",
       "1        253601  184788 2022-02-20 21:16:03 2022-02-21 16:40:05       0   \n",
       "2        250270  174631 2022-02-16 02:13:03 2022-02-16 14:22:03       0   \n",
       "3        251559  178209 2022-02-18 19:32:04 2022-02-18 22:10:47       0   \n",
       "4        248466  173047 2022-02-13 23:19:03 2022-02-13 23:25:07       0   \n",
       "\n",
       "   initial_amount  final_amount  retailer_id               status  agent_id  \\\n",
       "0          1000.0         500.0       118272  PARTIALLY_COLLECTED      2231   \n",
       "1          1000.0           0.0        37800               FAILED      1950   \n",
       "2          1000.0        1000.0        37800            COLLECTED      2288   \n",
       "3          1000.0        1000.0        37800            COLLECTED      2288   \n",
       "4          1000.0         500.0        37800  PARTIALLY_COLLECTED       869   \n",
       "\n",
       "  district_id response_in_hours  \n",
       "0          87          00:13:19  \n",
       "1          35          19:24:02  \n",
       "2          35          12:09:00  \n",
       "3          35          02:38:43  \n",
       "4          35          00:06:04  "
      ]
     },
     "execution_count": 90,
     "metadata": {},
     "output_type": "execute_result"
    }
   ],
   "source": [
    "df.head()"
   ]
  },
  {
   "cell_type": "code",
   "execution_count": 91,
   "metadata": {},
   "outputs": [
    {
     "data": {
      "text/plain": [
       "Timedelta('0 days 14:57:44.875999')"
      ]
     },
     "execution_count": 91,
     "metadata": {},
     "output_type": "execute_result"
    }
   ],
   "source": [
    "# we will get the average hours for response \n",
    "df[\"response_in_hours\"].mean()"
   ]
  },
  {
   "cell_type": "markdown",
   "metadata": {},
   "source": [
    "as we can see it has almost 15 hours in average "
   ]
  },
  {
   "cell_type": "code",
   "execution_count": 92,
   "metadata": {},
   "outputs": [
    {
     "data": {
      "text/html": [
       "<div>\n",
       "<style scoped>\n",
       "    .dataframe tbody tr th:only-of-type {\n",
       "        vertical-align: middle;\n",
       "    }\n",
       "\n",
       "    .dataframe tbody tr th {\n",
       "        vertical-align: top;\n",
       "    }\n",
       "\n",
       "    .dataframe thead th {\n",
       "        text-align: right;\n",
       "    }\n",
       "</style>\n",
       "<table border=\"1\" class=\"dataframe\">\n",
       "  <thead>\n",
       "    <tr style=\"text-align: right;\">\n",
       "      <th></th>\n",
       "      <th>run_sheet_id</th>\n",
       "      <th>co_id</th>\n",
       "      <th>created_at</th>\n",
       "      <th>updated_at</th>\n",
       "      <th>delays</th>\n",
       "      <th>initial_amount</th>\n",
       "      <th>final_amount</th>\n",
       "      <th>retailer_id</th>\n",
       "      <th>status</th>\n",
       "      <th>agent_id</th>\n",
       "      <th>district_id</th>\n",
       "      <th>response_in_hours</th>\n",
       "    </tr>\n",
       "  </thead>\n",
       "  <tbody>\n",
       "    <tr>\n",
       "      <th>1</th>\n",
       "      <td>253601</td>\n",
       "      <td>184788</td>\n",
       "      <td>2022-02-20 21:16:03</td>\n",
       "      <td>2022-02-21 16:40:05</td>\n",
       "      <td>0</td>\n",
       "      <td>1000.0</td>\n",
       "      <td>0.0</td>\n",
       "      <td>37800</td>\n",
       "      <td>FAILED</td>\n",
       "      <td>1950</td>\n",
       "      <td>35</td>\n",
       "      <td>0 days 19:24:02</td>\n",
       "    </tr>\n",
       "    <tr>\n",
       "      <th>8</th>\n",
       "      <td>242372</td>\n",
       "      <td>162422</td>\n",
       "      <td>2022-02-04 15:02:03</td>\n",
       "      <td>2022-02-05 18:40:47</td>\n",
       "      <td>0</td>\n",
       "      <td>1000.0</td>\n",
       "      <td>0.0</td>\n",
       "      <td>244267</td>\n",
       "      <td>FAILED</td>\n",
       "      <td>2181</td>\n",
       "      <td>60</td>\n",
       "      <td>1 days 03:38:44</td>\n",
       "    </tr>\n",
       "    <tr>\n",
       "      <th>66</th>\n",
       "      <td>267845</td>\n",
       "      <td>235452</td>\n",
       "      <td>2022-03-08 16:51:03</td>\n",
       "      <td>2022-03-09 12:32:46</td>\n",
       "      <td>0</td>\n",
       "      <td>1500.0</td>\n",
       "      <td>0.0</td>\n",
       "      <td>7357</td>\n",
       "      <td>FAILED</td>\n",
       "      <td>2506</td>\n",
       "      <td>38</td>\n",
       "      <td>0 days 19:41:43</td>\n",
       "    </tr>\n",
       "    <tr>\n",
       "      <th>72</th>\n",
       "      <td>266973</td>\n",
       "      <td>228039</td>\n",
       "      <td>2022-03-06 15:27:09</td>\n",
       "      <td>2022-03-08 15:22:25</td>\n",
       "      <td>1</td>\n",
       "      <td>1500.0</td>\n",
       "      <td>0.0</td>\n",
       "      <td>7357</td>\n",
       "      <td>FAILED</td>\n",
       "      <td>391</td>\n",
       "      <td>38</td>\n",
       "      <td>1 days 23:55:16</td>\n",
       "    </tr>\n",
       "    <tr>\n",
       "      <th>97</th>\n",
       "      <td>222426</td>\n",
       "      <td>96188</td>\n",
       "      <td>2022-01-03 11:26:03</td>\n",
       "      <td>2022-01-03 19:24:59</td>\n",
       "      <td>0</td>\n",
       "      <td>1000.0</td>\n",
       "      <td>0.0</td>\n",
       "      <td>60203</td>\n",
       "      <td>FAILED</td>\n",
       "      <td>2015</td>\n",
       "      <td>55</td>\n",
       "      <td>0 days 07:58:56</td>\n",
       "    </tr>\n",
       "    <tr>\n",
       "      <th>...</th>\n",
       "      <td>...</td>\n",
       "      <td>...</td>\n",
       "      <td>...</td>\n",
       "      <td>...</td>\n",
       "      <td>...</td>\n",
       "      <td>...</td>\n",
       "      <td>...</td>\n",
       "      <td>...</td>\n",
       "      <td>...</td>\n",
       "      <td>...</td>\n",
       "      <td>...</td>\n",
       "      <td>...</td>\n",
       "    </tr>\n",
       "    <tr>\n",
       "      <th>131564</th>\n",
       "      <td>293998</td>\n",
       "      <td>331597</td>\n",
       "      <td>2022-04-03 16:18:04</td>\n",
       "      <td>2022-04-03 22:44:14</td>\n",
       "      <td>0</td>\n",
       "      <td>1000.0</td>\n",
       "      <td>0.0</td>\n",
       "      <td>273630</td>\n",
       "      <td>FAILED</td>\n",
       "      <td>2184</td>\n",
       "      <td>555</td>\n",
       "      <td>0 days 06:26:10</td>\n",
       "    </tr>\n",
       "    <tr>\n",
       "      <th>131600</th>\n",
       "      <td>260084</td>\n",
       "      <td>217551</td>\n",
       "      <td>2022-03-01 13:52:03</td>\n",
       "      <td>2022-03-01 15:23:51</td>\n",
       "      <td>0</td>\n",
       "      <td>1000.0</td>\n",
       "      <td>0.0</td>\n",
       "      <td>248076</td>\n",
       "      <td>FAILED</td>\n",
       "      <td>1877</td>\n",
       "      <td>61</td>\n",
       "      <td>0 days 01:31:48</td>\n",
       "    </tr>\n",
       "    <tr>\n",
       "      <th>131618</th>\n",
       "      <td>296307</td>\n",
       "      <td>333433</td>\n",
       "      <td>2022-04-03 20:02:03</td>\n",
       "      <td>2022-04-05 23:42:34</td>\n",
       "      <td>1</td>\n",
       "      <td>2000.0</td>\n",
       "      <td>0.0</td>\n",
       "      <td>274131</td>\n",
       "      <td>FAILED</td>\n",
       "      <td>2941</td>\n",
       "      <td>551</td>\n",
       "      <td>2 days 03:40:31</td>\n",
       "    </tr>\n",
       "    <tr>\n",
       "      <th>131626</th>\n",
       "      <td>289077</td>\n",
       "      <td>274370</td>\n",
       "      <td>2022-03-28 15:53:03</td>\n",
       "      <td>2022-03-29 22:22:21</td>\n",
       "      <td>1</td>\n",
       "      <td>1500.0</td>\n",
       "      <td>0.0</td>\n",
       "      <td>248511</td>\n",
       "      <td>FAILED</td>\n",
       "      <td>2331</td>\n",
       "      <td>31</td>\n",
       "      <td>1 days 06:29:18</td>\n",
       "    </tr>\n",
       "    <tr>\n",
       "      <th>131691</th>\n",
       "      <td>252875</td>\n",
       "      <td>181259</td>\n",
       "      <td>2022-02-19 22:01:03</td>\n",
       "      <td>2022-02-20 20:04:45</td>\n",
       "      <td>0</td>\n",
       "      <td>1000.0</td>\n",
       "      <td>0.0</td>\n",
       "      <td>249112</td>\n",
       "      <td>FAILED</td>\n",
       "      <td>2287</td>\n",
       "      <td>105</td>\n",
       "      <td>0 days 22:03:42</td>\n",
       "    </tr>\n",
       "  </tbody>\n",
       "</table>\n",
       "<p>9349 rows × 12 columns</p>\n",
       "</div>"
      ],
      "text/plain": [
       "        run_sheet_id   co_id          created_at          updated_at  delays  \\\n",
       "1             253601  184788 2022-02-20 21:16:03 2022-02-21 16:40:05       0   \n",
       "8             242372  162422 2022-02-04 15:02:03 2022-02-05 18:40:47       0   \n",
       "66            267845  235452 2022-03-08 16:51:03 2022-03-09 12:32:46       0   \n",
       "72            266973  228039 2022-03-06 15:27:09 2022-03-08 15:22:25       1   \n",
       "97            222426   96188 2022-01-03 11:26:03 2022-01-03 19:24:59       0   \n",
       "...              ...     ...                 ...                 ...     ...   \n",
       "131564        293998  331597 2022-04-03 16:18:04 2022-04-03 22:44:14       0   \n",
       "131600        260084  217551 2022-03-01 13:52:03 2022-03-01 15:23:51       0   \n",
       "131618        296307  333433 2022-04-03 20:02:03 2022-04-05 23:42:34       1   \n",
       "131626        289077  274370 2022-03-28 15:53:03 2022-03-29 22:22:21       1   \n",
       "131691        252875  181259 2022-02-19 22:01:03 2022-02-20 20:04:45       0   \n",
       "\n",
       "        initial_amount  final_amount  retailer_id  status  agent_id  \\\n",
       "1               1000.0           0.0        37800  FAILED      1950   \n",
       "8               1000.0           0.0       244267  FAILED      2181   \n",
       "66              1500.0           0.0         7357  FAILED      2506   \n",
       "72              1500.0           0.0         7357  FAILED       391   \n",
       "97              1000.0           0.0        60203  FAILED      2015   \n",
       "...                ...           ...          ...     ...       ...   \n",
       "131564          1000.0           0.0       273630  FAILED      2184   \n",
       "131600          1000.0           0.0       248076  FAILED      1877   \n",
       "131618          2000.0           0.0       274131  FAILED      2941   \n",
       "131626          1500.0           0.0       248511  FAILED      2331   \n",
       "131691          1000.0           0.0       249112  FAILED      2287   \n",
       "\n",
       "       district_id response_in_hours  \n",
       "1               35   0 days 19:24:02  \n",
       "8               60   1 days 03:38:44  \n",
       "66              38   0 days 19:41:43  \n",
       "72              38   1 days 23:55:16  \n",
       "97              55   0 days 07:58:56  \n",
       "...            ...               ...  \n",
       "131564         555   0 days 06:26:10  \n",
       "131600          61   0 days 01:31:48  \n",
       "131618         551   2 days 03:40:31  \n",
       "131626          31   1 days 06:29:18  \n",
       "131691         105   0 days 22:03:42  \n",
       "\n",
       "[9349 rows x 12 columns]"
      ]
     },
     "execution_count": 92,
     "metadata": {},
     "output_type": "execute_result"
    }
   ],
   "source": [
    "# get only the data where status = FAILED\n",
    "df.query(\"status == 'FAILED'\")"
   ]
  },
  {
   "cell_type": "code",
   "execution_count": 93,
   "metadata": {},
   "outputs": [],
   "source": [
    "# Save the new data in df_failed\n",
    "df_failed = df.query(\"status == 'FAILED'\")"
   ]
  },
  {
   "cell_type": "code",
   "execution_count": 94,
   "metadata": {},
   "outputs": [],
   "source": [
    "# get only the data where status = \"collecter or partially collected\"\n",
    "df_success = df.query(\"status == 'COLLECTED'\" or \"status == 'PARTIALLY_COLLECTED'\")"
   ]
  },
  {
   "cell_type": "code",
   "execution_count": 95,
   "metadata": {},
   "outputs": [
    {
     "data": {
      "text/html": [
       "<div>\n",
       "<style scoped>\n",
       "    .dataframe tbody tr th:only-of-type {\n",
       "        vertical-align: middle;\n",
       "    }\n",
       "\n",
       "    .dataframe tbody tr th {\n",
       "        vertical-align: top;\n",
       "    }\n",
       "\n",
       "    .dataframe thead th {\n",
       "        text-align: right;\n",
       "    }\n",
       "</style>\n",
       "<table border=\"1\" class=\"dataframe\">\n",
       "  <thead>\n",
       "    <tr style=\"text-align: right;\">\n",
       "      <th></th>\n",
       "      <th>run_sheet_id</th>\n",
       "      <th>co_id</th>\n",
       "      <th>created_at</th>\n",
       "      <th>updated_at</th>\n",
       "      <th>delays</th>\n",
       "      <th>initial_amount</th>\n",
       "      <th>final_amount</th>\n",
       "      <th>retailer_id</th>\n",
       "      <th>status</th>\n",
       "      <th>agent_id</th>\n",
       "      <th>district_id</th>\n",
       "      <th>response_in_hours</th>\n",
       "    </tr>\n",
       "  </thead>\n",
       "  <tbody>\n",
       "    <tr>\n",
       "      <th>2</th>\n",
       "      <td>250270</td>\n",
       "      <td>174631</td>\n",
       "      <td>2022-02-16 02:13:03</td>\n",
       "      <td>2022-02-16 14:22:03</td>\n",
       "      <td>0</td>\n",
       "      <td>1000.0</td>\n",
       "      <td>1000.0</td>\n",
       "      <td>37800</td>\n",
       "      <td>COLLECTED</td>\n",
       "      <td>2288</td>\n",
       "      <td>35</td>\n",
       "      <td>0 days 12:09:00</td>\n",
       "    </tr>\n",
       "    <tr>\n",
       "      <th>3</th>\n",
       "      <td>251559</td>\n",
       "      <td>178209</td>\n",
       "      <td>2022-02-18 19:32:04</td>\n",
       "      <td>2022-02-18 22:10:47</td>\n",
       "      <td>0</td>\n",
       "      <td>1000.0</td>\n",
       "      <td>1000.0</td>\n",
       "      <td>37800</td>\n",
       "      <td>COLLECTED</td>\n",
       "      <td>2288</td>\n",
       "      <td>35</td>\n",
       "      <td>0 days 02:38:43</td>\n",
       "    </tr>\n",
       "    <tr>\n",
       "      <th>5</th>\n",
       "      <td>268848</td>\n",
       "      <td>238415</td>\n",
       "      <td>2022-03-09 11:30:10</td>\n",
       "      <td>2022-03-10 17:55:05</td>\n",
       "      <td>1</td>\n",
       "      <td>1000.0</td>\n",
       "      <td>1000.0</td>\n",
       "      <td>244267</td>\n",
       "      <td>COLLECTED</td>\n",
       "      <td>2483</td>\n",
       "      <td>60</td>\n",
       "      <td>1 days 06:24:55</td>\n",
       "    </tr>\n",
       "    <tr>\n",
       "      <th>6</th>\n",
       "      <td>286288</td>\n",
       "      <td>268778</td>\n",
       "      <td>2022-03-26 10:08:03</td>\n",
       "      <td>2022-03-27 17:37:56</td>\n",
       "      <td>0</td>\n",
       "      <td>1000.0</td>\n",
       "      <td>1000.0</td>\n",
       "      <td>244267</td>\n",
       "      <td>COLLECTED</td>\n",
       "      <td>2820</td>\n",
       "      <td>60</td>\n",
       "      <td>1 days 07:29:53</td>\n",
       "    </tr>\n",
       "    <tr>\n",
       "      <th>7</th>\n",
       "      <td>279318</td>\n",
       "      <td>255246</td>\n",
       "      <td>2022-03-20 00:59:03</td>\n",
       "      <td>2022-03-21 18:17:30</td>\n",
       "      <td>0</td>\n",
       "      <td>1000.0</td>\n",
       "      <td>1000.0</td>\n",
       "      <td>244267</td>\n",
       "      <td>COLLECTED</td>\n",
       "      <td>2327</td>\n",
       "      <td>60</td>\n",
       "      <td>1 days 17:18:27</td>\n",
       "    </tr>\n",
       "  </tbody>\n",
       "</table>\n",
       "</div>"
      ],
      "text/plain": [
       "   run_sheet_id   co_id          created_at          updated_at  delays  \\\n",
       "2        250270  174631 2022-02-16 02:13:03 2022-02-16 14:22:03       0   \n",
       "3        251559  178209 2022-02-18 19:32:04 2022-02-18 22:10:47       0   \n",
       "5        268848  238415 2022-03-09 11:30:10 2022-03-10 17:55:05       1   \n",
       "6        286288  268778 2022-03-26 10:08:03 2022-03-27 17:37:56       0   \n",
       "7        279318  255246 2022-03-20 00:59:03 2022-03-21 18:17:30       0   \n",
       "\n",
       "   initial_amount  final_amount  retailer_id     status  agent_id district_id  \\\n",
       "2          1000.0        1000.0        37800  COLLECTED      2288          35   \n",
       "3          1000.0        1000.0        37800  COLLECTED      2288          35   \n",
       "5          1000.0        1000.0       244267  COLLECTED      2483          60   \n",
       "6          1000.0        1000.0       244267  COLLECTED      2820          60   \n",
       "7          1000.0        1000.0       244267  COLLECTED      2327          60   \n",
       "\n",
       "  response_in_hours  \n",
       "2   0 days 12:09:00  \n",
       "3   0 days 02:38:43  \n",
       "5   1 days 06:24:55  \n",
       "6   1 days 07:29:53  \n",
       "7   1 days 17:18:27  "
      ]
     },
     "execution_count": 95,
     "metadata": {},
     "output_type": "execute_result"
    }
   ],
   "source": [
    "df_success.head()"
   ]
  },
  {
   "cell_type": "code",
   "execution_count": 96,
   "metadata": {},
   "outputs": [
    {
     "name": "stdout",
     "output_type": "stream",
     "text": [
      "0 days 21:29:58.574286\n",
      "0 days 14:44:36.509248\n",
      "0 days 14:57:44.875999\n"
     ]
    }
   ],
   "source": [
    "print(df_failed[\"response_in_hours\"].mean())\n",
    "print(df_success[\"response_in_hours\"].mean())\n",
    "print(df[\"response_in_hours\"].mean())"
   ]
  },
  {
   "cell_type": "markdown",
   "metadata": {},
   "source": [
    "as it was expected the data with failed status has more average in time response comparing to the original data and the data with success status, which means that time for response is really important in order to make it a success status"
   ]
  },
  {
   "cell_type": "code",
   "execution_count": 97,
   "metadata": {},
   "outputs": [
    {
     "data": {
      "text/plain": [
       "0    7232\n",
       "1    2117\n",
       "Name: delays, dtype: int64"
      ]
     },
     "execution_count": 97,
     "metadata": {},
     "output_type": "execute_result"
    }
   ],
   "source": [
    "# getting the number of delays in the data with failed status\n",
    "df_failed[\"delays\"].value_counts()"
   ]
  },
  {
   "cell_type": "code",
   "execution_count": 98,
   "metadata": {},
   "outputs": [
    {
     "data": {
      "text/plain": [
       "0    122855\n",
       "1      8838\n",
       "Name: delays, dtype: int64"
      ]
     },
     "execution_count": 98,
     "metadata": {},
     "output_type": "execute_result"
    }
   ],
   "source": [
    "# the number of delays overall\n",
    "df[\"delays\"].value_counts()"
   ]
  },
  {
   "cell_type": "markdown",
   "metadata": {},
   "source": [
    "##### We can notice here thats almost 24 % of the total delays come with failed status, which means when the order doesn’t have a terminal status from the first attempt there is a chance of 24 % that this order will fail\n"
   ]
  },
  {
   "cell_type": "code",
   "execution_count": 99,
   "metadata": {},
   "outputs": [
    {
     "data": {
      "text/html": [
       "<div>\n",
       "<style scoped>\n",
       "    .dataframe tbody tr th:only-of-type {\n",
       "        vertical-align: middle;\n",
       "    }\n",
       "\n",
       "    .dataframe tbody tr th {\n",
       "        vertical-align: top;\n",
       "    }\n",
       "\n",
       "    .dataframe thead th {\n",
       "        text-align: right;\n",
       "    }\n",
       "</style>\n",
       "<table border=\"1\" class=\"dataframe\">\n",
       "  <thead>\n",
       "    <tr style=\"text-align: right;\">\n",
       "      <th></th>\n",
       "      <th>run_sheet_id</th>\n",
       "      <th>co_id</th>\n",
       "      <th>created_at</th>\n",
       "      <th>updated_at</th>\n",
       "      <th>delays</th>\n",
       "      <th>initial_amount</th>\n",
       "      <th>final_amount</th>\n",
       "      <th>retailer_id</th>\n",
       "      <th>status</th>\n",
       "      <th>agent_id</th>\n",
       "      <th>district_id</th>\n",
       "      <th>response_in_hours</th>\n",
       "    </tr>\n",
       "  </thead>\n",
       "  <tbody>\n",
       "    <tr>\n",
       "      <th>5</th>\n",
       "      <td>268848</td>\n",
       "      <td>238415</td>\n",
       "      <td>2022-03-09 11:30:10</td>\n",
       "      <td>2022-03-10 17:55:05</td>\n",
       "      <td>1</td>\n",
       "      <td>1000.0</td>\n",
       "      <td>1000.0</td>\n",
       "      <td>244267</td>\n",
       "      <td>COLLECTED</td>\n",
       "      <td>2483</td>\n",
       "      <td>60</td>\n",
       "      <td>1 days 06:24:55</td>\n",
       "    </tr>\n",
       "    <tr>\n",
       "      <th>13</th>\n",
       "      <td>287355</td>\n",
       "      <td>270714</td>\n",
       "      <td>2022-03-26 21:13:04</td>\n",
       "      <td>2022-03-28 19:16:36</td>\n",
       "      <td>1</td>\n",
       "      <td>1000.0</td>\n",
       "      <td>500.0</td>\n",
       "      <td>48165</td>\n",
       "      <td>PARTIALLY_COLLECTED</td>\n",
       "      <td>2891</td>\n",
       "      <td>46</td>\n",
       "      <td>1 days 22:03:32</td>\n",
       "    </tr>\n",
       "    <tr>\n",
       "      <th>18</th>\n",
       "      <td>286574</td>\n",
       "      <td>271062</td>\n",
       "      <td>2022-03-27 00:07:03</td>\n",
       "      <td>2022-03-27 19:55:23</td>\n",
       "      <td>1</td>\n",
       "      <td>1000.0</td>\n",
       "      <td>1000.0</td>\n",
       "      <td>189156</td>\n",
       "      <td>COLLECTED</td>\n",
       "      <td>2602</td>\n",
       "      <td>87</td>\n",
       "      <td>0 days 19:48:20</td>\n",
       "    </tr>\n",
       "    <tr>\n",
       "      <th>40</th>\n",
       "      <td>256532</td>\n",
       "      <td>193442</td>\n",
       "      <td>2022-02-23 13:32:04</td>\n",
       "      <td>2022-02-25 15:44:15</td>\n",
       "      <td>1</td>\n",
       "      <td>2000.0</td>\n",
       "      <td>2000.0</td>\n",
       "      <td>5470</td>\n",
       "      <td>COLLECTED</td>\n",
       "      <td>1654</td>\n",
       "      <td>31</td>\n",
       "      <td>2 days 02:12:11</td>\n",
       "    </tr>\n",
       "    <tr>\n",
       "      <th>52</th>\n",
       "      <td>237503</td>\n",
       "      <td>149088</td>\n",
       "      <td>2022-01-26 00:01:12</td>\n",
       "      <td>2022-01-29 14:10:08</td>\n",
       "      <td>1</td>\n",
       "      <td>2000.0</td>\n",
       "      <td>2000.0</td>\n",
       "      <td>5470</td>\n",
       "      <td>COLLECTED</td>\n",
       "      <td>1654</td>\n",
       "      <td>31</td>\n",
       "      <td>3 days 14:08:56</td>\n",
       "    </tr>\n",
       "    <tr>\n",
       "      <th>...</th>\n",
       "      <td>...</td>\n",
       "      <td>...</td>\n",
       "      <td>...</td>\n",
       "      <td>...</td>\n",
       "      <td>...</td>\n",
       "      <td>...</td>\n",
       "      <td>...</td>\n",
       "      <td>...</td>\n",
       "      <td>...</td>\n",
       "      <td>...</td>\n",
       "      <td>...</td>\n",
       "      <td>...</td>\n",
       "    </tr>\n",
       "    <tr>\n",
       "      <th>131625</th>\n",
       "      <td>274192</td>\n",
       "      <td>247067</td>\n",
       "      <td>2022-03-14 01:45:10</td>\n",
       "      <td>2022-03-16 12:38:19</td>\n",
       "      <td>1</td>\n",
       "      <td>1000.0</td>\n",
       "      <td>1000.0</td>\n",
       "      <td>248511</td>\n",
       "      <td>COLLECTED</td>\n",
       "      <td>2482</td>\n",
       "      <td>31</td>\n",
       "      <td>2 days 10:53:09</td>\n",
       "    </tr>\n",
       "    <tr>\n",
       "      <th>131626</th>\n",
       "      <td>289077</td>\n",
       "      <td>274370</td>\n",
       "      <td>2022-03-28 15:53:03</td>\n",
       "      <td>2022-03-29 22:22:21</td>\n",
       "      <td>1</td>\n",
       "      <td>1500.0</td>\n",
       "      <td>0.0</td>\n",
       "      <td>248511</td>\n",
       "      <td>FAILED</td>\n",
       "      <td>2331</td>\n",
       "      <td>31</td>\n",
       "      <td>1 days 06:29:18</td>\n",
       "    </tr>\n",
       "    <tr>\n",
       "      <th>131629</th>\n",
       "      <td>268844</td>\n",
       "      <td>235705</td>\n",
       "      <td>2022-03-08 18:04:03</td>\n",
       "      <td>2022-03-10 13:59:47</td>\n",
       "      <td>1</td>\n",
       "      <td>1000.0</td>\n",
       "      <td>1000.0</td>\n",
       "      <td>248511</td>\n",
       "      <td>COLLECTED</td>\n",
       "      <td>2232</td>\n",
       "      <td>31</td>\n",
       "      <td>1 days 19:55:44</td>\n",
       "    </tr>\n",
       "    <tr>\n",
       "      <th>131689</th>\n",
       "      <td>273390</td>\n",
       "      <td>246946</td>\n",
       "      <td>2022-03-13 23:51:03</td>\n",
       "      <td>2022-03-15 19:49:25</td>\n",
       "      <td>1</td>\n",
       "      <td>1000.0</td>\n",
       "      <td>1000.0</td>\n",
       "      <td>249112</td>\n",
       "      <td>COLLECTED</td>\n",
       "      <td>2139</td>\n",
       "      <td>105</td>\n",
       "      <td>1 days 19:58:22</td>\n",
       "    </tr>\n",
       "    <tr>\n",
       "      <th>131690</th>\n",
       "      <td>254552</td>\n",
       "      <td>186190</td>\n",
       "      <td>2022-02-21 07:28:12</td>\n",
       "      <td>2022-02-22 18:41:44</td>\n",
       "      <td>1</td>\n",
       "      <td>1000.0</td>\n",
       "      <td>1000.0</td>\n",
       "      <td>249112</td>\n",
       "      <td>COLLECTED</td>\n",
       "      <td>2331</td>\n",
       "      <td>105</td>\n",
       "      <td>1 days 11:13:32</td>\n",
       "    </tr>\n",
       "  </tbody>\n",
       "</table>\n",
       "<p>8838 rows × 12 columns</p>\n",
       "</div>"
      ],
      "text/plain": [
       "        run_sheet_id   co_id          created_at          updated_at  delays  \\\n",
       "5             268848  238415 2022-03-09 11:30:10 2022-03-10 17:55:05       1   \n",
       "13            287355  270714 2022-03-26 21:13:04 2022-03-28 19:16:36       1   \n",
       "18            286574  271062 2022-03-27 00:07:03 2022-03-27 19:55:23       1   \n",
       "40            256532  193442 2022-02-23 13:32:04 2022-02-25 15:44:15       1   \n",
       "52            237503  149088 2022-01-26 00:01:12 2022-01-29 14:10:08       1   \n",
       "...              ...     ...                 ...                 ...     ...   \n",
       "131625        274192  247067 2022-03-14 01:45:10 2022-03-16 12:38:19       1   \n",
       "131626        289077  274370 2022-03-28 15:53:03 2022-03-29 22:22:21       1   \n",
       "131629        268844  235705 2022-03-08 18:04:03 2022-03-10 13:59:47       1   \n",
       "131689        273390  246946 2022-03-13 23:51:03 2022-03-15 19:49:25       1   \n",
       "131690        254552  186190 2022-02-21 07:28:12 2022-02-22 18:41:44       1   \n",
       "\n",
       "        initial_amount  final_amount  retailer_id               status  \\\n",
       "5               1000.0        1000.0       244267            COLLECTED   \n",
       "13              1000.0         500.0        48165  PARTIALLY_COLLECTED   \n",
       "18              1000.0        1000.0       189156            COLLECTED   \n",
       "40              2000.0        2000.0         5470            COLLECTED   \n",
       "52              2000.0        2000.0         5470            COLLECTED   \n",
       "...                ...           ...          ...                  ...   \n",
       "131625          1000.0        1000.0       248511            COLLECTED   \n",
       "131626          1500.0           0.0       248511               FAILED   \n",
       "131629          1000.0        1000.0       248511            COLLECTED   \n",
       "131689          1000.0        1000.0       249112            COLLECTED   \n",
       "131690          1000.0        1000.0       249112            COLLECTED   \n",
       "\n",
       "        agent_id district_id response_in_hours  \n",
       "5           2483          60   1 days 06:24:55  \n",
       "13          2891          46   1 days 22:03:32  \n",
       "18          2602          87   0 days 19:48:20  \n",
       "40          1654          31   2 days 02:12:11  \n",
       "52          1654          31   3 days 14:08:56  \n",
       "...          ...         ...               ...  \n",
       "131625      2482          31   2 days 10:53:09  \n",
       "131626      2331          31   1 days 06:29:18  \n",
       "131629      2232          31   1 days 19:55:44  \n",
       "131689      2139         105   1 days 19:58:22  \n",
       "131690      2331         105   1 days 11:13:32  \n",
       "\n",
       "[8838 rows x 12 columns]"
      ]
     },
     "execution_count": 99,
     "metadata": {},
     "output_type": "execute_result"
    }
   ],
   "source": [
    "# getting data when the delay = 1, which means when the order didn't get a terminal status from the first attempt\n",
    "df.query(\"delays == 1\")"
   ]
  },
  {
   "cell_type": "code",
   "execution_count": 100,
   "metadata": {},
   "outputs": [],
   "source": [
    "# save the new data in df_delays\n",
    "df_delays = df.query(\"delays ==1\")"
   ]
  },
  {
   "cell_type": "code",
   "execution_count": 101,
   "metadata": {},
   "outputs": [
    {
     "data": {
      "text/html": [
       "<div>\n",
       "<style scoped>\n",
       "    .dataframe tbody tr th:only-of-type {\n",
       "        vertical-align: middle;\n",
       "    }\n",
       "\n",
       "    .dataframe tbody tr th {\n",
       "        vertical-align: top;\n",
       "    }\n",
       "\n",
       "    .dataframe thead th {\n",
       "        text-align: right;\n",
       "    }\n",
       "</style>\n",
       "<table border=\"1\" class=\"dataframe\">\n",
       "  <thead>\n",
       "    <tr style=\"text-align: right;\">\n",
       "      <th></th>\n",
       "      <th>run_sheet_id</th>\n",
       "      <th>co_id</th>\n",
       "      <th>created_at</th>\n",
       "      <th>updated_at</th>\n",
       "      <th>delays</th>\n",
       "      <th>initial_amount</th>\n",
       "      <th>final_amount</th>\n",
       "      <th>retailer_id</th>\n",
       "      <th>status</th>\n",
       "      <th>agent_id</th>\n",
       "      <th>district_id</th>\n",
       "      <th>response_in_hours</th>\n",
       "    </tr>\n",
       "  </thead>\n",
       "  <tbody>\n",
       "    <tr>\n",
       "      <th>5</th>\n",
       "      <td>268848</td>\n",
       "      <td>238415</td>\n",
       "      <td>2022-03-09 11:30:10</td>\n",
       "      <td>2022-03-10 17:55:05</td>\n",
       "      <td>1</td>\n",
       "      <td>1000.0</td>\n",
       "      <td>1000.0</td>\n",
       "      <td>244267</td>\n",
       "      <td>COLLECTED</td>\n",
       "      <td>2483</td>\n",
       "      <td>60</td>\n",
       "      <td>1 days 06:24:55</td>\n",
       "    </tr>\n",
       "    <tr>\n",
       "      <th>13</th>\n",
       "      <td>287355</td>\n",
       "      <td>270714</td>\n",
       "      <td>2022-03-26 21:13:04</td>\n",
       "      <td>2022-03-28 19:16:36</td>\n",
       "      <td>1</td>\n",
       "      <td>1000.0</td>\n",
       "      <td>500.0</td>\n",
       "      <td>48165</td>\n",
       "      <td>PARTIALLY_COLLECTED</td>\n",
       "      <td>2891</td>\n",
       "      <td>46</td>\n",
       "      <td>1 days 22:03:32</td>\n",
       "    </tr>\n",
       "    <tr>\n",
       "      <th>18</th>\n",
       "      <td>286574</td>\n",
       "      <td>271062</td>\n",
       "      <td>2022-03-27 00:07:03</td>\n",
       "      <td>2022-03-27 19:55:23</td>\n",
       "      <td>1</td>\n",
       "      <td>1000.0</td>\n",
       "      <td>1000.0</td>\n",
       "      <td>189156</td>\n",
       "      <td>COLLECTED</td>\n",
       "      <td>2602</td>\n",
       "      <td>87</td>\n",
       "      <td>0 days 19:48:20</td>\n",
       "    </tr>\n",
       "    <tr>\n",
       "      <th>40</th>\n",
       "      <td>256532</td>\n",
       "      <td>193442</td>\n",
       "      <td>2022-02-23 13:32:04</td>\n",
       "      <td>2022-02-25 15:44:15</td>\n",
       "      <td>1</td>\n",
       "      <td>2000.0</td>\n",
       "      <td>2000.0</td>\n",
       "      <td>5470</td>\n",
       "      <td>COLLECTED</td>\n",
       "      <td>1654</td>\n",
       "      <td>31</td>\n",
       "      <td>2 days 02:12:11</td>\n",
       "    </tr>\n",
       "    <tr>\n",
       "      <th>52</th>\n",
       "      <td>237503</td>\n",
       "      <td>149088</td>\n",
       "      <td>2022-01-26 00:01:12</td>\n",
       "      <td>2022-01-29 14:10:08</td>\n",
       "      <td>1</td>\n",
       "      <td>2000.0</td>\n",
       "      <td>2000.0</td>\n",
       "      <td>5470</td>\n",
       "      <td>COLLECTED</td>\n",
       "      <td>1654</td>\n",
       "      <td>31</td>\n",
       "      <td>3 days 14:08:56</td>\n",
       "    </tr>\n",
       "  </tbody>\n",
       "</table>\n",
       "</div>"
      ],
      "text/plain": [
       "    run_sheet_id   co_id          created_at          updated_at  delays  \\\n",
       "5         268848  238415 2022-03-09 11:30:10 2022-03-10 17:55:05       1   \n",
       "13        287355  270714 2022-03-26 21:13:04 2022-03-28 19:16:36       1   \n",
       "18        286574  271062 2022-03-27 00:07:03 2022-03-27 19:55:23       1   \n",
       "40        256532  193442 2022-02-23 13:32:04 2022-02-25 15:44:15       1   \n",
       "52        237503  149088 2022-01-26 00:01:12 2022-01-29 14:10:08       1   \n",
       "\n",
       "    initial_amount  final_amount  retailer_id               status  agent_id  \\\n",
       "5           1000.0        1000.0       244267            COLLECTED      2483   \n",
       "13          1000.0         500.0        48165  PARTIALLY_COLLECTED      2891   \n",
       "18          1000.0        1000.0       189156            COLLECTED      2602   \n",
       "40          2000.0        2000.0         5470            COLLECTED      1654   \n",
       "52          2000.0        2000.0         5470            COLLECTED      1654   \n",
       "\n",
       "   district_id response_in_hours  \n",
       "5           60   1 days 06:24:55  \n",
       "13          46   1 days 22:03:32  \n",
       "18          87   0 days 19:48:20  \n",
       "40          31   2 days 02:12:11  \n",
       "52          31   3 days 14:08:56  "
      ]
     },
     "execution_count": 101,
     "metadata": {},
     "output_type": "execute_result"
    }
   ],
   "source": [
    "df_delays.head()"
   ]
  },
  {
   "cell_type": "code",
   "execution_count": 102,
   "metadata": {},
   "outputs": [
    {
     "data": {
      "text/plain": [
       "COLLECTED              5873\n",
       "FAILED                 2117\n",
       "PARTIALLY_COLLECTED     848\n",
       "Name: status, dtype: int64"
      ]
     },
     "execution_count": 102,
     "metadata": {},
     "output_type": "execute_result"
    }
   ],
   "source": [
    "# getting more info about the status in the data where delays = 1\n",
    "df_delays[\"status\"].value_counts()"
   ]
  },
  {
   "cell_type": "code",
   "execution_count": 103,
   "metadata": {},
   "outputs": [
    {
     "data": {
      "text/plain": [
       "COLLECTED              112992\n",
       "PARTIALLY_COLLECTED      9352\n",
       "FAILED                   9349\n",
       "Name: status, dtype: int64"
      ]
     },
     "execution_count": 103,
     "metadata": {},
     "output_type": "execute_result"
    }
   ],
   "source": [
    "# getting more info about the status in the original data \n",
    "df[\"status\"].value_counts()"
   ]
  },
  {
   "cell_type": "markdown",
   "metadata": {},
   "source": [
    "##### here we can say that 22.6% of the total fails happend when there was a delay "
   ]
  },
  {
   "cell_type": "code",
   "execution_count": 104,
   "metadata": {},
   "outputs": [],
   "source": [
    "# save df_failed data in csv file to load it in Power Bi and do further analysis\n",
    "df_failed.to_csv(\"df_failed.csv\")"
   ]
  },
  {
   "cell_type": "markdown",
   "metadata": {},
   "source": [
    "we will make further analysis regarding the agents who have an id number 493 and 1737 as it showed that 211 of the failed orders were happened when he was the one responsible for it and 208 failed orders for the agent 1737, as they are the highest two agents with failed orders "
   ]
  },
  {
   "cell_type": "code",
   "execution_count": 105,
   "metadata": {},
   "outputs": [],
   "source": [
    "# get only the data where agent_id = 493\n",
    "df_agent_493 = df.query(\"agent_id == 493\")"
   ]
  },
  {
   "cell_type": "code",
   "execution_count": 106,
   "metadata": {},
   "outputs": [
    {
     "data": {
      "text/html": [
       "<div>\n",
       "<style scoped>\n",
       "    .dataframe tbody tr th:only-of-type {\n",
       "        vertical-align: middle;\n",
       "    }\n",
       "\n",
       "    .dataframe tbody tr th {\n",
       "        vertical-align: top;\n",
       "    }\n",
       "\n",
       "    .dataframe thead th {\n",
       "        text-align: right;\n",
       "    }\n",
       "</style>\n",
       "<table border=\"1\" class=\"dataframe\">\n",
       "  <thead>\n",
       "    <tr style=\"text-align: right;\">\n",
       "      <th></th>\n",
       "      <th>run_sheet_id</th>\n",
       "      <th>co_id</th>\n",
       "      <th>created_at</th>\n",
       "      <th>updated_at</th>\n",
       "      <th>delays</th>\n",
       "      <th>initial_amount</th>\n",
       "      <th>final_amount</th>\n",
       "      <th>retailer_id</th>\n",
       "      <th>status</th>\n",
       "      <th>agent_id</th>\n",
       "      <th>district_id</th>\n",
       "      <th>response_in_hours</th>\n",
       "    </tr>\n",
       "  </thead>\n",
       "  <tbody>\n",
       "    <tr>\n",
       "      <th>41</th>\n",
       "      <td>221526</td>\n",
       "      <td>94760</td>\n",
       "      <td>2021-12-31 20:18:03</td>\n",
       "      <td>2022-01-01 18:11:06</td>\n",
       "      <td>0</td>\n",
       "      <td>2000.0</td>\n",
       "      <td>2000.0</td>\n",
       "      <td>5470</td>\n",
       "      <td>COLLECTED</td>\n",
       "      <td>493</td>\n",
       "      <td>31</td>\n",
       "      <td>21:53:03</td>\n",
       "    </tr>\n",
       "    <tr>\n",
       "      <th>347</th>\n",
       "      <td>201492</td>\n",
       "      <td>9970</td>\n",
       "      <td>2021-11-21 20:09:03</td>\n",
       "      <td>2021-11-21 20:19:10</td>\n",
       "      <td>0</td>\n",
       "      <td>1000.0</td>\n",
       "      <td>1000.0</td>\n",
       "      <td>30617</td>\n",
       "      <td>COLLECTED</td>\n",
       "      <td>493</td>\n",
       "      <td>62</td>\n",
       "      <td>00:10:07</td>\n",
       "    </tr>\n",
       "    <tr>\n",
       "      <th>611</th>\n",
       "      <td>188853</td>\n",
       "      <td>3926</td>\n",
       "      <td>2021-10-26 17:17:09</td>\n",
       "      <td>2021-10-26 17:26:30</td>\n",
       "      <td>0</td>\n",
       "      <td>1000.0</td>\n",
       "      <td>1000.0</td>\n",
       "      <td>21098</td>\n",
       "      <td>COLLECTED</td>\n",
       "      <td>493</td>\n",
       "      <td>62</td>\n",
       "      <td>00:09:21</td>\n",
       "    </tr>\n",
       "    <tr>\n",
       "      <th>623</th>\n",
       "      <td>188827</td>\n",
       "      <td>3891</td>\n",
       "      <td>2021-10-26 14:20:05</td>\n",
       "      <td>2021-10-26 14:28:38</td>\n",
       "      <td>0</td>\n",
       "      <td>1000.0</td>\n",
       "      <td>1000.0</td>\n",
       "      <td>16119</td>\n",
       "      <td>COLLECTED</td>\n",
       "      <td>493</td>\n",
       "      <td>62</td>\n",
       "      <td>00:08:33</td>\n",
       "    </tr>\n",
       "    <tr>\n",
       "      <th>894</th>\n",
       "      <td>213989</td>\n",
       "      <td>22436</td>\n",
       "      <td>2021-12-16 20:48:03</td>\n",
       "      <td>2021-12-16 20:54:53</td>\n",
       "      <td>0</td>\n",
       "      <td>1000.0</td>\n",
       "      <td>1000.0</td>\n",
       "      <td>81922</td>\n",
       "      <td>COLLECTED</td>\n",
       "      <td>493</td>\n",
       "      <td>25</td>\n",
       "      <td>00:06:50</td>\n",
       "    </tr>\n",
       "  </tbody>\n",
       "</table>\n",
       "</div>"
      ],
      "text/plain": [
       "     run_sheet_id  co_id          created_at          updated_at  delays  \\\n",
       "41         221526  94760 2021-12-31 20:18:03 2022-01-01 18:11:06       0   \n",
       "347        201492   9970 2021-11-21 20:09:03 2021-11-21 20:19:10       0   \n",
       "611        188853   3926 2021-10-26 17:17:09 2021-10-26 17:26:30       0   \n",
       "623        188827   3891 2021-10-26 14:20:05 2021-10-26 14:28:38       0   \n",
       "894        213989  22436 2021-12-16 20:48:03 2021-12-16 20:54:53       0   \n",
       "\n",
       "     initial_amount  final_amount  retailer_id     status  agent_id  \\\n",
       "41           2000.0        2000.0         5470  COLLECTED       493   \n",
       "347          1000.0        1000.0        30617  COLLECTED       493   \n",
       "611          1000.0        1000.0        21098  COLLECTED       493   \n",
       "623          1000.0        1000.0        16119  COLLECTED       493   \n",
       "894          1000.0        1000.0        81922  COLLECTED       493   \n",
       "\n",
       "    district_id response_in_hours  \n",
       "41           31          21:53:03  \n",
       "347          62          00:10:07  \n",
       "611          62          00:09:21  \n",
       "623          62          00:08:33  \n",
       "894          25          00:06:50  "
      ]
     },
     "execution_count": 106,
     "metadata": {},
     "output_type": "execute_result"
    }
   ],
   "source": [
    "df_agent_493.head()"
   ]
  },
  {
   "cell_type": "code",
   "execution_count": 107,
   "metadata": {},
   "outputs": [
    {
     "data": {
      "text/plain": [
       "Timedelta('0 days 23:15:58.864705')"
      ]
     },
     "execution_count": 107,
     "metadata": {},
     "output_type": "execute_result"
    }
   ],
   "source": [
    "# finding the average time response for this agent\n",
    "df_agent_493[\"response_in_hours\"].mean()"
   ]
  },
  {
   "cell_type": "markdown",
   "metadata": {},
   "source": [
    "as we can see the mean of the response time for this agent is very high which totally affect the status of the order which most likely to be failed"
   ]
  },
  {
   "cell_type": "code",
   "execution_count": 108,
   "metadata": {},
   "outputs": [
    {
     "data": {
      "text/plain": [
       "0    679\n",
       "1      1\n",
       "Name: delays, dtype: int64"
      ]
     },
     "execution_count": 108,
     "metadata": {},
     "output_type": "execute_result"
    }
   ],
   "source": [
    "df_agent_493[\"delays\"].value_counts()"
   ]
  },
  {
   "cell_type": "markdown",
   "metadata": {},
   "source": [
    "so now we made sure the reason behind the failed orders with this agent is probably the late time response, cuz here it shows that he always complete the order in the first attempt "
   ]
  },
  {
   "cell_type": "code",
   "execution_count": 109,
   "metadata": {},
   "outputs": [
    {
     "data": {
      "text/plain": [
       "COLLECTED              425\n",
       "FAILED                 211\n",
       "PARTIALLY_COLLECTED     44\n",
       "Name: status, dtype: int64"
      ]
     },
     "execution_count": 109,
     "metadata": {},
     "output_type": "execute_result"
    }
   ],
   "source": [
    "df_agent_493[\"status\"].value_counts()"
   ]
  },
  {
   "cell_type": "markdown",
   "metadata": {},
   "source": [
    "from this info we can say that almost 31 % of the total orders that this agent was responsible for led to a failure"
   ]
  },
  {
   "cell_type": "markdown",
   "metadata": {},
   "source": [
    "-------------------------------------------------------------------------------------------------------------------------------"
   ]
  },
  {
   "cell_type": "markdown",
   "metadata": {},
   "source": [
    "##### for the agent 1737"
   ]
  },
  {
   "cell_type": "code",
   "execution_count": 110,
   "metadata": {},
   "outputs": [
    {
     "data": {
      "text/html": [
       "<div>\n",
       "<style scoped>\n",
       "    .dataframe tbody tr th:only-of-type {\n",
       "        vertical-align: middle;\n",
       "    }\n",
       "\n",
       "    .dataframe tbody tr th {\n",
       "        vertical-align: top;\n",
       "    }\n",
       "\n",
       "    .dataframe thead th {\n",
       "        text-align: right;\n",
       "    }\n",
       "</style>\n",
       "<table border=\"1\" class=\"dataframe\">\n",
       "  <thead>\n",
       "    <tr style=\"text-align: right;\">\n",
       "      <th></th>\n",
       "      <th>run_sheet_id</th>\n",
       "      <th>co_id</th>\n",
       "      <th>created_at</th>\n",
       "      <th>updated_at</th>\n",
       "      <th>delays</th>\n",
       "      <th>initial_amount</th>\n",
       "      <th>final_amount</th>\n",
       "      <th>retailer_id</th>\n",
       "      <th>status</th>\n",
       "      <th>agent_id</th>\n",
       "      <th>district_id</th>\n",
       "      <th>response_in_hours</th>\n",
       "    </tr>\n",
       "  </thead>\n",
       "  <tbody>\n",
       "    <tr>\n",
       "      <th>203</th>\n",
       "      <td>223729</td>\n",
       "      <td>97386</td>\n",
       "      <td>2022-01-05 12:51:03</td>\n",
       "      <td>2022-01-05 17:13:49</td>\n",
       "      <td>0</td>\n",
       "      <td>2000.0</td>\n",
       "      <td>2000.0</td>\n",
       "      <td>5233</td>\n",
       "      <td>COLLECTED</td>\n",
       "      <td>1737</td>\n",
       "      <td>75</td>\n",
       "      <td>04:22:46</td>\n",
       "    </tr>\n",
       "    <tr>\n",
       "      <th>218</th>\n",
       "      <td>247074</td>\n",
       "      <td>171420</td>\n",
       "      <td>2022-02-11 17:19:03</td>\n",
       "      <td>2022-02-12 14:01:59</td>\n",
       "      <td>0</td>\n",
       "      <td>2000.0</td>\n",
       "      <td>2200.0</td>\n",
       "      <td>5233</td>\n",
       "      <td>COLLECTED</td>\n",
       "      <td>1737</td>\n",
       "      <td>75</td>\n",
       "      <td>20:42:56</td>\n",
       "    </tr>\n",
       "    <tr>\n",
       "      <th>225</th>\n",
       "      <td>232658</td>\n",
       "      <td>145817</td>\n",
       "      <td>2022-01-20 13:49:03</td>\n",
       "      <td>2022-01-20 16:09:58</td>\n",
       "      <td>0</td>\n",
       "      <td>1500.0</td>\n",
       "      <td>1500.0</td>\n",
       "      <td>5233</td>\n",
       "      <td>COLLECTED</td>\n",
       "      <td>1737</td>\n",
       "      <td>75</td>\n",
       "      <td>02:20:55</td>\n",
       "    </tr>\n",
       "    <tr>\n",
       "      <th>227</th>\n",
       "      <td>230030</td>\n",
       "      <td>131378</td>\n",
       "      <td>2022-01-16 14:06:12</td>\n",
       "      <td>2022-01-16 18:27:27</td>\n",
       "      <td>0</td>\n",
       "      <td>1500.0</td>\n",
       "      <td>1500.0</td>\n",
       "      <td>5233</td>\n",
       "      <td>COLLECTED</td>\n",
       "      <td>1737</td>\n",
       "      <td>75</td>\n",
       "      <td>04:21:15</td>\n",
       "    </tr>\n",
       "    <tr>\n",
       "      <th>257</th>\n",
       "      <td>220731</td>\n",
       "      <td>92323</td>\n",
       "      <td>2021-12-29 17:13:04</td>\n",
       "      <td>2021-12-29 19:28:46</td>\n",
       "      <td>0</td>\n",
       "      <td>1000.0</td>\n",
       "      <td>1000.0</td>\n",
       "      <td>12943</td>\n",
       "      <td>COLLECTED</td>\n",
       "      <td>1737</td>\n",
       "      <td>37</td>\n",
       "      <td>02:15:42</td>\n",
       "    </tr>\n",
       "  </tbody>\n",
       "</table>\n",
       "</div>"
      ],
      "text/plain": [
       "     run_sheet_id   co_id          created_at          updated_at  delays  \\\n",
       "203        223729   97386 2022-01-05 12:51:03 2022-01-05 17:13:49       0   \n",
       "218        247074  171420 2022-02-11 17:19:03 2022-02-12 14:01:59       0   \n",
       "225        232658  145817 2022-01-20 13:49:03 2022-01-20 16:09:58       0   \n",
       "227        230030  131378 2022-01-16 14:06:12 2022-01-16 18:27:27       0   \n",
       "257        220731   92323 2021-12-29 17:13:04 2021-12-29 19:28:46       0   \n",
       "\n",
       "     initial_amount  final_amount  retailer_id     status  agent_id  \\\n",
       "203          2000.0        2000.0         5233  COLLECTED      1737   \n",
       "218          2000.0        2200.0         5233  COLLECTED      1737   \n",
       "225          1500.0        1500.0         5233  COLLECTED      1737   \n",
       "227          1500.0        1500.0         5233  COLLECTED      1737   \n",
       "257          1000.0        1000.0        12943  COLLECTED      1737   \n",
       "\n",
       "    district_id response_in_hours  \n",
       "203          75          04:22:46  \n",
       "218          75          20:42:56  \n",
       "225          75          02:20:55  \n",
       "227          75          04:21:15  \n",
       "257          37          02:15:42  "
      ]
     },
     "execution_count": 110,
     "metadata": {},
     "output_type": "execute_result"
    }
   ],
   "source": [
    "# get only the data where agent_id = 1737\n",
    "df_agent_1737 = df.query(\"agent_id == 1737\")\n",
    "df_agent_1737.head()\n"
   ]
  },
  {
   "cell_type": "code",
   "execution_count": 111,
   "metadata": {},
   "outputs": [
    {
     "data": {
      "text/plain": [
       "Timedelta('0 days 13:22:36.753095')"
      ]
     },
     "execution_count": 111,
     "metadata": {},
     "output_type": "execute_result"
    }
   ],
   "source": [
    "df_agent_1737[\"response_in_hours\"].mean()"
   ]
  },
  {
   "cell_type": "markdown",
   "metadata": {},
   "source": [
    "the average time response for this agent is not that high comparing to the agent 493"
   ]
  },
  {
   "cell_type": "code",
   "execution_count": 112,
   "metadata": {},
   "outputs": [
    {
     "data": {
      "text/plain": [
       "0    2501\n",
       "1      83\n",
       "Name: delays, dtype: int64"
      ]
     },
     "execution_count": 112,
     "metadata": {},
     "output_type": "execute_result"
    }
   ],
   "source": [
    "df_agent_1737[\"delays\"].value_counts()"
   ]
  },
  {
   "cell_type": "markdown",
   "metadata": {},
   "source": [
    "for this agent the number of delays is relatively high comparing to the previous agent, with a 3.3 % of the total orders he was responsible for "
   ]
  },
  {
   "cell_type": "code",
   "execution_count": 113,
   "metadata": {},
   "outputs": [],
   "source": [
    "# we will get the data of this agent where delays = 1\n",
    "df_1737_delay = df_agent_1737.query(\"delays ==1\")"
   ]
  },
  {
   "cell_type": "code",
   "execution_count": 114,
   "metadata": {},
   "outputs": [
    {
     "data": {
      "text/plain": [
       "71"
      ]
     },
     "execution_count": 114,
     "metadata": {},
     "output_type": "execute_result"
    }
   ],
   "source": [
    "# we will get number of retailers that this agent had delays with\n",
    "df_1737_delay[\"retailer_id\"].nunique()"
   ]
  },
  {
   "cell_type": "code",
   "execution_count": 115,
   "metadata": {},
   "outputs": [
    {
     "data": {
      "text/plain": [
       "30925     4\n",
       "188379    3\n",
       "47196     2\n",
       "85816     2\n",
       "164780    2\n",
       "         ..\n",
       "28876     1\n",
       "24004     1\n",
       "30146     1\n",
       "223613    1\n",
       "8576      1\n",
       "Name: retailer_id, Length: 71, dtype: int64"
      ]
     },
     "execution_count": 115,
     "metadata": {},
     "output_type": "execute_result"
    }
   ],
   "source": [
    "# we will get the retailer that this agent had the most delay with\n",
    "df_1737_delay[\"retailer_id\"].value_counts()"
   ]
  },
  {
   "cell_type": "markdown",
   "metadata": {},
   "source": [
    "the retailer with id number 30925 is the one that this agent had the most delays count with "
   ]
  },
  {
   "cell_type": "code",
   "execution_count": 116,
   "metadata": {},
   "outputs": [
    {
     "data": {
      "text/plain": [
       "COLLECTED              2323\n",
       "FAILED                  208\n",
       "PARTIALLY_COLLECTED      53\n",
       "Name: status, dtype: int64"
      ]
     },
     "execution_count": 116,
     "metadata": {},
     "output_type": "execute_result"
    }
   ],
   "source": [
    "df_agent_1737[\"status\"].value_counts()"
   ]
  },
  {
   "cell_type": "markdown",
   "metadata": {},
   "source": [
    "from this we can say that 8 % of the total orders that this agent was responsible for led to a failure "
   ]
  },
  {
   "cell_type": "markdown",
   "metadata": {},
   "source": [
    "-------------------------------------------------------------------------------------------------------------------------------"
   ]
  },
  {
   "cell_type": "markdown",
   "metadata": {},
   "source": [
    "we will make other further analysis but this time regarding the districts id number 54 and 28 as it showed that 447 failed orders  that occurred in the district 54, and 391 failed orders in the district 28 as they are the highest two districts with failed orders"
   ]
  },
  {
   "cell_type": "code",
   "execution_count": 117,
   "metadata": {},
   "outputs": [],
   "source": [
    "# get only the data where district_id = 54\n",
    "df_district_54 = df.query(\"district_id == 54\")"
   ]
  },
  {
   "cell_type": "code",
   "execution_count": 118,
   "metadata": {},
   "outputs": [
    {
     "data": {
      "text/html": [
       "<div>\n",
       "<style scoped>\n",
       "    .dataframe tbody tr th:only-of-type {\n",
       "        vertical-align: middle;\n",
       "    }\n",
       "\n",
       "    .dataframe tbody tr th {\n",
       "        vertical-align: top;\n",
       "    }\n",
       "\n",
       "    .dataframe thead th {\n",
       "        text-align: right;\n",
       "    }\n",
       "</style>\n",
       "<table border=\"1\" class=\"dataframe\">\n",
       "  <thead>\n",
       "    <tr style=\"text-align: right;\">\n",
       "      <th></th>\n",
       "      <th>run_sheet_id</th>\n",
       "      <th>co_id</th>\n",
       "      <th>created_at</th>\n",
       "      <th>updated_at</th>\n",
       "      <th>delays</th>\n",
       "      <th>initial_amount</th>\n",
       "      <th>final_amount</th>\n",
       "      <th>retailer_id</th>\n",
       "      <th>status</th>\n",
       "      <th>agent_id</th>\n",
       "      <th>district_id</th>\n",
       "      <th>response_in_hours</th>\n",
       "    </tr>\n",
       "  </thead>\n",
       "  <tbody>\n",
       "    <tr>\n",
       "      <th>483</th>\n",
       "      <td>270253</td>\n",
       "      <td>240356</td>\n",
       "      <td>2022-03-10 01:43:03</td>\n",
       "      <td>2022-03-12 14:35:11</td>\n",
       "      <td>1</td>\n",
       "      <td>1000.0</td>\n",
       "      <td>0.0</td>\n",
       "      <td>32419</td>\n",
       "      <td>FAILED</td>\n",
       "      <td>2017</td>\n",
       "      <td>54</td>\n",
       "      <td>2 days 12:52:08</td>\n",
       "    </tr>\n",
       "    <tr>\n",
       "      <th>685</th>\n",
       "      <td>307547</td>\n",
       "      <td>472252</td>\n",
       "      <td>2022-04-15 22:20:06</td>\n",
       "      <td>2022-04-16 12:43:52</td>\n",
       "      <td>0</td>\n",
       "      <td>10000.0</td>\n",
       "      <td>16350.0</td>\n",
       "      <td>51535</td>\n",
       "      <td>COLLECTED</td>\n",
       "      <td>2290</td>\n",
       "      <td>54</td>\n",
       "      <td>0 days 14:23:46</td>\n",
       "    </tr>\n",
       "    <tr>\n",
       "      <th>686</th>\n",
       "      <td>299199</td>\n",
       "      <td>367282</td>\n",
       "      <td>2022-04-06 00:15:03</td>\n",
       "      <td>2022-04-08 23:15:37</td>\n",
       "      <td>1</td>\n",
       "      <td>7000.0</td>\n",
       "      <td>8000.0</td>\n",
       "      <td>51535</td>\n",
       "      <td>COLLECTED</td>\n",
       "      <td>2759</td>\n",
       "      <td>54</td>\n",
       "      <td>2 days 23:00:34</td>\n",
       "    </tr>\n",
       "    <tr>\n",
       "      <th>687</th>\n",
       "      <td>295175</td>\n",
       "      <td>349320</td>\n",
       "      <td>2022-04-04 21:01:03</td>\n",
       "      <td>2022-04-04 21:11:51</td>\n",
       "      <td>0</td>\n",
       "      <td>1000.0</td>\n",
       "      <td>1000.0</td>\n",
       "      <td>51535</td>\n",
       "      <td>COLLECTED</td>\n",
       "      <td>2724</td>\n",
       "      <td>54</td>\n",
       "      <td>0 days 00:10:48</td>\n",
       "    </tr>\n",
       "    <tr>\n",
       "      <th>688</th>\n",
       "      <td>304888</td>\n",
       "      <td>433177</td>\n",
       "      <td>2022-04-12 16:54:03</td>\n",
       "      <td>2022-04-13 22:47:36</td>\n",
       "      <td>1</td>\n",
       "      <td>9000.0</td>\n",
       "      <td>9200.0</td>\n",
       "      <td>51535</td>\n",
       "      <td>COLLECTED</td>\n",
       "      <td>1521</td>\n",
       "      <td>54</td>\n",
       "      <td>1 days 05:53:33</td>\n",
       "    </tr>\n",
       "  </tbody>\n",
       "</table>\n",
       "</div>"
      ],
      "text/plain": [
       "     run_sheet_id   co_id          created_at          updated_at  delays  \\\n",
       "483        270253  240356 2022-03-10 01:43:03 2022-03-12 14:35:11       1   \n",
       "685        307547  472252 2022-04-15 22:20:06 2022-04-16 12:43:52       0   \n",
       "686        299199  367282 2022-04-06 00:15:03 2022-04-08 23:15:37       1   \n",
       "687        295175  349320 2022-04-04 21:01:03 2022-04-04 21:11:51       0   \n",
       "688        304888  433177 2022-04-12 16:54:03 2022-04-13 22:47:36       1   \n",
       "\n",
       "     initial_amount  final_amount  retailer_id     status  agent_id  \\\n",
       "483          1000.0           0.0        32419     FAILED      2017   \n",
       "685         10000.0       16350.0        51535  COLLECTED      2290   \n",
       "686          7000.0        8000.0        51535  COLLECTED      2759   \n",
       "687          1000.0        1000.0        51535  COLLECTED      2724   \n",
       "688          9000.0        9200.0        51535  COLLECTED      1521   \n",
       "\n",
       "    district_id response_in_hours  \n",
       "483          54   2 days 12:52:08  \n",
       "685          54   0 days 14:23:46  \n",
       "686          54   2 days 23:00:34  \n",
       "687          54   0 days 00:10:48  \n",
       "688          54   1 days 05:53:33  "
      ]
     },
     "execution_count": 118,
     "metadata": {},
     "output_type": "execute_result"
    }
   ],
   "source": [
    "df_district_54.head()"
   ]
  },
  {
   "cell_type": "code",
   "execution_count": 119,
   "metadata": {},
   "outputs": [
    {
     "data": {
      "text/plain": [
       "Timedelta('0 days 15:03:39.734829')"
      ]
     },
     "execution_count": 119,
     "metadata": {},
     "output_type": "execute_result"
    }
   ],
   "source": [
    "df_district_54[\"response_in_hours\"].mean()"
   ]
  },
  {
   "cell_type": "markdown",
   "metadata": {},
   "source": [
    "we can the mean time for response is not actually that high"
   ]
  },
  {
   "cell_type": "code",
   "execution_count": 120,
   "metadata": {},
   "outputs": [
    {
     "data": {
      "text/plain": [
       "COLLECTED              0.816708\n",
       "FAILED                 0.092893\n",
       "PARTIALLY_COLLECTED    0.090399\n",
       "Name: status, dtype: float64"
      ]
     },
     "execution_count": 120,
     "metadata": {},
     "output_type": "execute_result"
    }
   ],
   "source": [
    "df_district_54[\"status\"].value_counts(normalize = True)"
   ]
  },
  {
   "cell_type": "markdown",
   "metadata": {},
   "source": [
    "the percentage of the failed is not big comparing the the total "
   ]
  },
  {
   "cell_type": "code",
   "execution_count": 121,
   "metadata": {},
   "outputs": [
    {
     "data": {
      "text/plain": [
       "389"
      ]
     },
     "execution_count": 121,
     "metadata": {},
     "output_type": "execute_result"
    }
   ],
   "source": [
    "# find out numbers of retailers that located in this district\n",
    "df_district_54[\"retailer_id\"].nunique()"
   ]
  },
  {
   "cell_type": "markdown",
   "metadata": {},
   "source": [
    "we will get the district data where status = failed to find out number or retailers that the agents failed to complete the order in with in this district\n"
   ]
  },
  {
   "cell_type": "code",
   "execution_count": 122,
   "metadata": {},
   "outputs": [],
   "source": [
    "df_54_failed = df_district_54.query(\"status == 'FAILED'\")"
   ]
  },
  {
   "cell_type": "code",
   "execution_count": 123,
   "metadata": {},
   "outputs": [
    {
     "data": {
      "text/plain": [
       "194"
      ]
     },
     "execution_count": 123,
     "metadata": {},
     "output_type": "execute_result"
    }
   ],
   "source": [
    "# we will find out the number of retailers \n",
    "df_54_failed[\"retailer_id\"].nunique()"
   ]
  },
  {
   "cell_type": "markdown",
   "metadata": {},
   "source": [
    "so almost 50 % of the retailers in the district id number 54 have a failed status which means the agents failed to complete the order with them"
   ]
  },
  {
   "cell_type": "markdown",
   "metadata": {},
   "source": [
    "-------------------------------------------------------------------------------------------------------------------------------"
   ]
  },
  {
   "cell_type": "markdown",
   "metadata": {},
   "source": [
    "##### for the district 28"
   ]
  },
  {
   "cell_type": "code",
   "execution_count": 124,
   "metadata": {},
   "outputs": [
    {
     "data": {
      "text/html": [
       "<div>\n",
       "<style scoped>\n",
       "    .dataframe tbody tr th:only-of-type {\n",
       "        vertical-align: middle;\n",
       "    }\n",
       "\n",
       "    .dataframe tbody tr th {\n",
       "        vertical-align: top;\n",
       "    }\n",
       "\n",
       "    .dataframe thead th {\n",
       "        text-align: right;\n",
       "    }\n",
       "</style>\n",
       "<table border=\"1\" class=\"dataframe\">\n",
       "  <thead>\n",
       "    <tr style=\"text-align: right;\">\n",
       "      <th></th>\n",
       "      <th>run_sheet_id</th>\n",
       "      <th>co_id</th>\n",
       "      <th>created_at</th>\n",
       "      <th>updated_at</th>\n",
       "      <th>delays</th>\n",
       "      <th>initial_amount</th>\n",
       "      <th>final_amount</th>\n",
       "      <th>retailer_id</th>\n",
       "      <th>status</th>\n",
       "      <th>agent_id</th>\n",
       "      <th>district_id</th>\n",
       "      <th>response_in_hours</th>\n",
       "    </tr>\n",
       "  </thead>\n",
       "  <tbody>\n",
       "    <tr>\n",
       "      <th>114</th>\n",
       "      <td>283485</td>\n",
       "      <td>264604</td>\n",
       "      <td>2022-03-24 18:57:04</td>\n",
       "      <td>2022-03-24 20:19:11</td>\n",
       "      <td>0</td>\n",
       "      <td>1000.0</td>\n",
       "      <td>0.0</td>\n",
       "      <td>192777</td>\n",
       "      <td>FAILED</td>\n",
       "      <td>2744</td>\n",
       "      <td>28</td>\n",
       "      <td>01:22:07</td>\n",
       "    </tr>\n",
       "    <tr>\n",
       "      <th>235</th>\n",
       "      <td>298142</td>\n",
       "      <td>379434</td>\n",
       "      <td>2022-04-06 23:25:04</td>\n",
       "      <td>2022-04-07 12:35:12</td>\n",
       "      <td>0</td>\n",
       "      <td>1000.0</td>\n",
       "      <td>1000.0</td>\n",
       "      <td>95926</td>\n",
       "      <td>COLLECTED</td>\n",
       "      <td>1550</td>\n",
       "      <td>28</td>\n",
       "      <td>13:10:08</td>\n",
       "    </tr>\n",
       "    <tr>\n",
       "      <th>236</th>\n",
       "      <td>279608</td>\n",
       "      <td>257791</td>\n",
       "      <td>2022-03-21 17:56:03</td>\n",
       "      <td>2022-03-21 18:36:19</td>\n",
       "      <td>0</td>\n",
       "      <td>1000.0</td>\n",
       "      <td>1000.0</td>\n",
       "      <td>95926</td>\n",
       "      <td>COLLECTED</td>\n",
       "      <td>2570</td>\n",
       "      <td>28</td>\n",
       "      <td>00:40:16</td>\n",
       "    </tr>\n",
       "    <tr>\n",
       "      <th>378</th>\n",
       "      <td>302158</td>\n",
       "      <td>421044</td>\n",
       "      <td>2022-04-11 13:00:17</td>\n",
       "      <td>2022-04-11 15:26:25</td>\n",
       "      <td>0</td>\n",
       "      <td>1500.0</td>\n",
       "      <td>1500.0</td>\n",
       "      <td>54854</td>\n",
       "      <td>COLLECTED</td>\n",
       "      <td>2891</td>\n",
       "      <td>28</td>\n",
       "      <td>02:26:08</td>\n",
       "    </tr>\n",
       "    <tr>\n",
       "      <th>379</th>\n",
       "      <td>273249</td>\n",
       "      <td>248722</td>\n",
       "      <td>2022-03-15 12:49:03</td>\n",
       "      <td>2022-03-15 18:40:54</td>\n",
       "      <td>0</td>\n",
       "      <td>1500.0</td>\n",
       "      <td>1500.0</td>\n",
       "      <td>54854</td>\n",
       "      <td>COLLECTED</td>\n",
       "      <td>1621</td>\n",
       "      <td>28</td>\n",
       "      <td>05:51:51</td>\n",
       "    </tr>\n",
       "  </tbody>\n",
       "</table>\n",
       "</div>"
      ],
      "text/plain": [
       "     run_sheet_id   co_id          created_at          updated_at  delays  \\\n",
       "114        283485  264604 2022-03-24 18:57:04 2022-03-24 20:19:11       0   \n",
       "235        298142  379434 2022-04-06 23:25:04 2022-04-07 12:35:12       0   \n",
       "236        279608  257791 2022-03-21 17:56:03 2022-03-21 18:36:19       0   \n",
       "378        302158  421044 2022-04-11 13:00:17 2022-04-11 15:26:25       0   \n",
       "379        273249  248722 2022-03-15 12:49:03 2022-03-15 18:40:54       0   \n",
       "\n",
       "     initial_amount  final_amount  retailer_id     status  agent_id  \\\n",
       "114          1000.0           0.0       192777     FAILED      2744   \n",
       "235          1000.0        1000.0        95926  COLLECTED      1550   \n",
       "236          1000.0        1000.0        95926  COLLECTED      2570   \n",
       "378          1500.0        1500.0        54854  COLLECTED      2891   \n",
       "379          1500.0        1500.0        54854  COLLECTED      1621   \n",
       "\n",
       "    district_id response_in_hours  \n",
       "114          28          01:22:07  \n",
       "235          28          13:10:08  \n",
       "236          28          00:40:16  \n",
       "378          28          02:26:08  \n",
       "379          28          05:51:51  "
      ]
     },
     "execution_count": 124,
     "metadata": {},
     "output_type": "execute_result"
    }
   ],
   "source": [
    "# get only the data where district_id = 28\n",
    "df_district_28 = df.query(\"district_id == 28\")\n",
    "df_district_28.head()\n"
   ]
  },
  {
   "cell_type": "code",
   "execution_count": 125,
   "metadata": {},
   "outputs": [
    {
     "data": {
      "text/plain": [
       "Timedelta('0 days 15:38:06.176123')"
      ]
     },
     "execution_count": 125,
     "metadata": {},
     "output_type": "execute_result"
    }
   ],
   "source": [
    "df_district_28[\"response_in_hours\"].mean()"
   ]
  },
  {
   "cell_type": "markdown",
   "metadata": {},
   "source": [
    "also the average of time response is not that high "
   ]
  },
  {
   "cell_type": "code",
   "execution_count": 126,
   "metadata": {},
   "outputs": [
    {
     "data": {
      "text/plain": [
       "COLLECTED              0.882855\n",
       "FAILED                 0.079520\n",
       "PARTIALLY_COLLECTED    0.037625\n",
       "Name: status, dtype: float64"
      ]
     },
     "execution_count": 126,
     "metadata": {},
     "output_type": "execute_result"
    }
   ],
   "source": [
    "df_district_28[\"status\"].value_counts(normalize = True)"
   ]
  },
  {
   "cell_type": "markdown",
   "metadata": {},
   "source": [
    "the percentage of the failed is not big comparing the the total "
   ]
  },
  {
   "cell_type": "code",
   "execution_count": 127,
   "metadata": {},
   "outputs": [
    {
     "data": {
      "text/plain": [
       "349"
      ]
     },
     "execution_count": 127,
     "metadata": {},
     "output_type": "execute_result"
    }
   ],
   "source": [
    "# find out numbers of retailers that located in this district\n",
    "df_district_28[\"retailer_id\"].nunique()"
   ]
  },
  {
   "cell_type": "markdown",
   "metadata": {},
   "source": [
    "we will get the district data where status = failed to find out number or retailers that the agents failed to complete the order in with in this district"
   ]
  },
  {
   "cell_type": "code",
   "execution_count": 128,
   "metadata": {},
   "outputs": [
    {
     "data": {
      "text/html": [
       "<div>\n",
       "<style scoped>\n",
       "    .dataframe tbody tr th:only-of-type {\n",
       "        vertical-align: middle;\n",
       "    }\n",
       "\n",
       "    .dataframe tbody tr th {\n",
       "        vertical-align: top;\n",
       "    }\n",
       "\n",
       "    .dataframe thead th {\n",
       "        text-align: right;\n",
       "    }\n",
       "</style>\n",
       "<table border=\"1\" class=\"dataframe\">\n",
       "  <thead>\n",
       "    <tr style=\"text-align: right;\">\n",
       "      <th></th>\n",
       "      <th>run_sheet_id</th>\n",
       "      <th>co_id</th>\n",
       "      <th>created_at</th>\n",
       "      <th>updated_at</th>\n",
       "      <th>delays</th>\n",
       "      <th>initial_amount</th>\n",
       "      <th>final_amount</th>\n",
       "      <th>retailer_id</th>\n",
       "      <th>status</th>\n",
       "      <th>agent_id</th>\n",
       "      <th>district_id</th>\n",
       "      <th>response_in_hours</th>\n",
       "    </tr>\n",
       "  </thead>\n",
       "  <tbody>\n",
       "    <tr>\n",
       "      <th>114</th>\n",
       "      <td>283485</td>\n",
       "      <td>264604</td>\n",
       "      <td>2022-03-24 18:57:04</td>\n",
       "      <td>2022-03-24 20:19:11</td>\n",
       "      <td>0</td>\n",
       "      <td>1000.0</td>\n",
       "      <td>0.0</td>\n",
       "      <td>192777</td>\n",
       "      <td>FAILED</td>\n",
       "      <td>2744</td>\n",
       "      <td>28</td>\n",
       "      <td>0 days 01:22:07</td>\n",
       "    </tr>\n",
       "    <tr>\n",
       "      <th>382</th>\n",
       "      <td>266836</td>\n",
       "      <td>231861</td>\n",
       "      <td>2022-03-07 19:24:03</td>\n",
       "      <td>2022-03-08 13:51:11</td>\n",
       "      <td>1</td>\n",
       "      <td>1500.0</td>\n",
       "      <td>0.0</td>\n",
       "      <td>54854</td>\n",
       "      <td>FAILED</td>\n",
       "      <td>1621</td>\n",
       "      <td>28</td>\n",
       "      <td>0 days 18:27:08</td>\n",
       "    </tr>\n",
       "    <tr>\n",
       "      <th>397</th>\n",
       "      <td>218129</td>\n",
       "      <td>64606</td>\n",
       "      <td>2021-12-23 19:48:03</td>\n",
       "      <td>2021-12-25 16:06:08</td>\n",
       "      <td>0</td>\n",
       "      <td>2000.0</td>\n",
       "      <td>0.0</td>\n",
       "      <td>198700</td>\n",
       "      <td>FAILED</td>\n",
       "      <td>1621</td>\n",
       "      <td>28</td>\n",
       "      <td>1 days 20:18:05</td>\n",
       "    </tr>\n",
       "    <tr>\n",
       "      <th>1303</th>\n",
       "      <td>204297</td>\n",
       "      <td>11658</td>\n",
       "      <td>2021-11-27 11:44:02</td>\n",
       "      <td>2021-11-27 16:10:49</td>\n",
       "      <td>0</td>\n",
       "      <td>1000.0</td>\n",
       "      <td>0.0</td>\n",
       "      <td>64413</td>\n",
       "      <td>FAILED</td>\n",
       "      <td>1656</td>\n",
       "      <td>28</td>\n",
       "      <td>0 days 04:26:47</td>\n",
       "    </tr>\n",
       "    <tr>\n",
       "      <th>1306</th>\n",
       "      <td>302406</td>\n",
       "      <td>412436</td>\n",
       "      <td>2022-04-10 13:51:03</td>\n",
       "      <td>2022-04-11 20:57:21</td>\n",
       "      <td>1</td>\n",
       "      <td>1500.0</td>\n",
       "      <td>0.0</td>\n",
       "      <td>64413</td>\n",
       "      <td>FAILED</td>\n",
       "      <td>2907</td>\n",
       "      <td>28</td>\n",
       "      <td>1 days 07:06:18</td>\n",
       "    </tr>\n",
       "  </tbody>\n",
       "</table>\n",
       "</div>"
      ],
      "text/plain": [
       "      run_sheet_id   co_id          created_at          updated_at  delays  \\\n",
       "114         283485  264604 2022-03-24 18:57:04 2022-03-24 20:19:11       0   \n",
       "382         266836  231861 2022-03-07 19:24:03 2022-03-08 13:51:11       1   \n",
       "397         218129   64606 2021-12-23 19:48:03 2021-12-25 16:06:08       0   \n",
       "1303        204297   11658 2021-11-27 11:44:02 2021-11-27 16:10:49       0   \n",
       "1306        302406  412436 2022-04-10 13:51:03 2022-04-11 20:57:21       1   \n",
       "\n",
       "      initial_amount  final_amount  retailer_id  status  agent_id district_id  \\\n",
       "114           1000.0           0.0       192777  FAILED      2744          28   \n",
       "382           1500.0           0.0        54854  FAILED      1621          28   \n",
       "397           2000.0           0.0       198700  FAILED      1621          28   \n",
       "1303          1000.0           0.0        64413  FAILED      1656          28   \n",
       "1306          1500.0           0.0        64413  FAILED      2907          28   \n",
       "\n",
       "     response_in_hours  \n",
       "114    0 days 01:22:07  \n",
       "382    0 days 18:27:08  \n",
       "397    1 days 20:18:05  \n",
       "1303   0 days 04:26:47  \n",
       "1306   1 days 07:06:18  "
      ]
     },
     "execution_count": 128,
     "metadata": {},
     "output_type": "execute_result"
    }
   ],
   "source": [
    "df_28_failed = df_district_28.query(\"status == 'FAILED'\")\n",
    "df_28_failed.head()"
   ]
  },
  {
   "cell_type": "code",
   "execution_count": 129,
   "metadata": {},
   "outputs": [
    {
     "data": {
      "text/plain": [
       "177"
      ]
     },
     "execution_count": 129,
     "metadata": {},
     "output_type": "execute_result"
    }
   ],
   "source": [
    "# we will find out the number of retailers \n",
    "df_28_failed[\"retailer_id\"].nunique()"
   ]
  },
  {
   "cell_type": "markdown",
   "metadata": {},
   "source": [
    "from the previous analysis it showed that 50.7 % of the total retailers in the district 28 has at least one failed status. so many fails happen with many retailers at least once in this district"
   ]
  },
  {
   "cell_type": "markdown",
   "metadata": {},
   "source": [
    "------------------------------------------------------------------------------------------------------------------------------"
   ]
  },
  {
   "cell_type": "markdown",
   "metadata": {},
   "source": [
    "we will make analysis regarding the retailer id number 48353 as it showed that 31 failed order happened with this specific retailer"
   ]
  },
  {
   "cell_type": "code",
   "execution_count": 130,
   "metadata": {},
   "outputs": [],
   "source": [
    "# get only the data where retailer_id = 48353\n",
    "df_retailer_48353 = df.query(\"retailer_id == 48353\")"
   ]
  },
  {
   "cell_type": "code",
   "execution_count": 131,
   "metadata": {},
   "outputs": [
    {
     "data": {
      "text/html": [
       "<div>\n",
       "<style scoped>\n",
       "    .dataframe tbody tr th:only-of-type {\n",
       "        vertical-align: middle;\n",
       "    }\n",
       "\n",
       "    .dataframe tbody tr th {\n",
       "        vertical-align: top;\n",
       "    }\n",
       "\n",
       "    .dataframe thead th {\n",
       "        text-align: right;\n",
       "    }\n",
       "</style>\n",
       "<table border=\"1\" class=\"dataframe\">\n",
       "  <thead>\n",
       "    <tr style=\"text-align: right;\">\n",
       "      <th></th>\n",
       "      <th>run_sheet_id</th>\n",
       "      <th>co_id</th>\n",
       "      <th>created_at</th>\n",
       "      <th>updated_at</th>\n",
       "      <th>delays</th>\n",
       "      <th>initial_amount</th>\n",
       "      <th>final_amount</th>\n",
       "      <th>retailer_id</th>\n",
       "      <th>status</th>\n",
       "      <th>agent_id</th>\n",
       "      <th>district_id</th>\n",
       "      <th>response_in_hours</th>\n",
       "    </tr>\n",
       "  </thead>\n",
       "  <tbody>\n",
       "    <tr>\n",
       "      <th>127669</th>\n",
       "      <td>298657</td>\n",
       "      <td>390182</td>\n",
       "      <td>2022-04-07 21:02:16</td>\n",
       "      <td>2022-04-08 13:40:57</td>\n",
       "      <td>1</td>\n",
       "      <td>824.03</td>\n",
       "      <td>0.0</td>\n",
       "      <td>48353</td>\n",
       "      <td>FAILED</td>\n",
       "      <td>2799</td>\n",
       "      <td>69</td>\n",
       "      <td>0 days 16:38:41</td>\n",
       "    </tr>\n",
       "    <tr>\n",
       "      <th>127670</th>\n",
       "      <td>294028</td>\n",
       "      <td>322200</td>\n",
       "      <td>2022-04-02 22:26:06</td>\n",
       "      <td>2022-04-04 02:38:38</td>\n",
       "      <td>1</td>\n",
       "      <td>825.00</td>\n",
       "      <td>0.0</td>\n",
       "      <td>48353</td>\n",
       "      <td>FAILED</td>\n",
       "      <td>2860</td>\n",
       "      <td>69</td>\n",
       "      <td>1 days 04:12:32</td>\n",
       "    </tr>\n",
       "    <tr>\n",
       "      <th>127671</th>\n",
       "      <td>291668</td>\n",
       "      <td>296872</td>\n",
       "      <td>2022-03-31 18:34:13</td>\n",
       "      <td>2022-04-01 14:27:20</td>\n",
       "      <td>1</td>\n",
       "      <td>824.03</td>\n",
       "      <td>0.0</td>\n",
       "      <td>48353</td>\n",
       "      <td>FAILED</td>\n",
       "      <td>2577</td>\n",
       "      <td>69</td>\n",
       "      <td>0 days 19:53:07</td>\n",
       "    </tr>\n",
       "    <tr>\n",
       "      <th>127672</th>\n",
       "      <td>288677</td>\n",
       "      <td>274723</td>\n",
       "      <td>2022-03-28 17:45:04</td>\n",
       "      <td>2022-03-29 16:44:43</td>\n",
       "      <td>1</td>\n",
       "      <td>825.00</td>\n",
       "      <td>0.0</td>\n",
       "      <td>48353</td>\n",
       "      <td>FAILED</td>\n",
       "      <td>2577</td>\n",
       "      <td>69</td>\n",
       "      <td>0 days 22:59:39</td>\n",
       "    </tr>\n",
       "    <tr>\n",
       "      <th>127673</th>\n",
       "      <td>289938</td>\n",
       "      <td>278843</td>\n",
       "      <td>2022-03-29 18:05:11</td>\n",
       "      <td>2022-03-30 18:20:05</td>\n",
       "      <td>1</td>\n",
       "      <td>824.03</td>\n",
       "      <td>0.0</td>\n",
       "      <td>48353</td>\n",
       "      <td>FAILED</td>\n",
       "      <td>2326</td>\n",
       "      <td>69</td>\n",
       "      <td>1 days 00:14:54</td>\n",
       "    </tr>\n",
       "  </tbody>\n",
       "</table>\n",
       "</div>"
      ],
      "text/plain": [
       "        run_sheet_id   co_id          created_at          updated_at  delays  \\\n",
       "127669        298657  390182 2022-04-07 21:02:16 2022-04-08 13:40:57       1   \n",
       "127670        294028  322200 2022-04-02 22:26:06 2022-04-04 02:38:38       1   \n",
       "127671        291668  296872 2022-03-31 18:34:13 2022-04-01 14:27:20       1   \n",
       "127672        288677  274723 2022-03-28 17:45:04 2022-03-29 16:44:43       1   \n",
       "127673        289938  278843 2022-03-29 18:05:11 2022-03-30 18:20:05       1   \n",
       "\n",
       "        initial_amount  final_amount  retailer_id  status  agent_id  \\\n",
       "127669          824.03           0.0        48353  FAILED      2799   \n",
       "127670          825.00           0.0        48353  FAILED      2860   \n",
       "127671          824.03           0.0        48353  FAILED      2577   \n",
       "127672          825.00           0.0        48353  FAILED      2577   \n",
       "127673          824.03           0.0        48353  FAILED      2326   \n",
       "\n",
       "       district_id response_in_hours  \n",
       "127669          69   0 days 16:38:41  \n",
       "127670          69   1 days 04:12:32  \n",
       "127671          69   0 days 19:53:07  \n",
       "127672          69   0 days 22:59:39  \n",
       "127673          69   1 days 00:14:54  "
      ]
     },
     "execution_count": 131,
     "metadata": {},
     "output_type": "execute_result"
    }
   ],
   "source": [
    "df_retailer_48353.head()"
   ]
  },
  {
   "cell_type": "code",
   "execution_count": 132,
   "metadata": {},
   "outputs": [
    {
     "data": {
      "text/plain": [
       "FAILED                 31\n",
       "PARTIALLY_COLLECTED     4\n",
       "COLLECTED               3\n",
       "Name: status, dtype: int64"
      ]
     },
     "execution_count": 132,
     "metadata": {},
     "output_type": "execute_result"
    }
   ],
   "source": [
    "df_retailer_48353[\"status\"].value_counts()"
   ]
  },
  {
   "cell_type": "markdown",
   "metadata": {},
   "source": [
    "as we can see the failed status is too large comparing to the total orders that occurred with this specific retailer"
   ]
  },
  {
   "cell_type": "code",
   "execution_count": 133,
   "metadata": {},
   "outputs": [
    {
     "data": {
      "text/plain": [
       "array([69.0], dtype=object)"
      ]
     },
     "execution_count": 133,
     "metadata": {},
     "output_type": "execute_result"
    }
   ],
   "source": [
    "# we fill find out in which district he located in \n",
    "df_retailer_48353[\"district_id\"].unique()"
   ]
  },
  {
   "cell_type": "markdown",
   "metadata": {},
   "source": [
    "he is located in the distrit id number 69, we will make further analysis about this district to see if the issue is with the district in general or its just the retailer "
   ]
  },
  {
   "cell_type": "code",
   "execution_count": 134,
   "metadata": {},
   "outputs": [
    {
     "data": {
      "text/html": [
       "<div>\n",
       "<style scoped>\n",
       "    .dataframe tbody tr th:only-of-type {\n",
       "        vertical-align: middle;\n",
       "    }\n",
       "\n",
       "    .dataframe tbody tr th {\n",
       "        vertical-align: top;\n",
       "    }\n",
       "\n",
       "    .dataframe thead th {\n",
       "        text-align: right;\n",
       "    }\n",
       "</style>\n",
       "<table border=\"1\" class=\"dataframe\">\n",
       "  <thead>\n",
       "    <tr style=\"text-align: right;\">\n",
       "      <th></th>\n",
       "      <th>run_sheet_id</th>\n",
       "      <th>co_id</th>\n",
       "      <th>created_at</th>\n",
       "      <th>updated_at</th>\n",
       "      <th>delays</th>\n",
       "      <th>initial_amount</th>\n",
       "      <th>final_amount</th>\n",
       "      <th>retailer_id</th>\n",
       "      <th>status</th>\n",
       "      <th>agent_id</th>\n",
       "      <th>district_id</th>\n",
       "      <th>response_in_hours</th>\n",
       "    </tr>\n",
       "  </thead>\n",
       "  <tbody>\n",
       "    <tr>\n",
       "      <th>714</th>\n",
       "      <td>303470</td>\n",
       "      <td>432252</td>\n",
       "      <td>2022-04-12 15:07:03</td>\n",
       "      <td>2022-04-12 15:10:16</td>\n",
       "      <td>0</td>\n",
       "      <td>1000.0</td>\n",
       "      <td>700.0</td>\n",
       "      <td>20790</td>\n",
       "      <td>PARTIALLY_COLLECTED</td>\n",
       "      <td>428</td>\n",
       "      <td>69</td>\n",
       "      <td>0 days 00:03:13</td>\n",
       "    </tr>\n",
       "    <tr>\n",
       "      <th>2956</th>\n",
       "      <td>292902</td>\n",
       "      <td>306608</td>\n",
       "      <td>2022-04-01 15:22:10</td>\n",
       "      <td>2022-04-02 17:18:38</td>\n",
       "      <td>0</td>\n",
       "      <td>1500.0</td>\n",
       "      <td>1500.0</td>\n",
       "      <td>51297</td>\n",
       "      <td>COLLECTED</td>\n",
       "      <td>2326</td>\n",
       "      <td>69</td>\n",
       "      <td>1 days 01:56:28</td>\n",
       "    </tr>\n",
       "    <tr>\n",
       "      <th>2957</th>\n",
       "      <td>267876</td>\n",
       "      <td>234675</td>\n",
       "      <td>2022-03-08 13:08:03</td>\n",
       "      <td>2022-03-09 17:52:11</td>\n",
       "      <td>0</td>\n",
       "      <td>1500.0</td>\n",
       "      <td>1500.0</td>\n",
       "      <td>51297</td>\n",
       "      <td>COLLECTED</td>\n",
       "      <td>2250</td>\n",
       "      <td>69</td>\n",
       "      <td>1 days 04:44:08</td>\n",
       "    </tr>\n",
       "    <tr>\n",
       "      <th>2958</th>\n",
       "      <td>280558</td>\n",
       "      <td>257402</td>\n",
       "      <td>2022-03-21 14:47:03</td>\n",
       "      <td>2022-03-22 21:24:08</td>\n",
       "      <td>0</td>\n",
       "      <td>1500.0</td>\n",
       "      <td>1500.0</td>\n",
       "      <td>51297</td>\n",
       "      <td>COLLECTED</td>\n",
       "      <td>2681</td>\n",
       "      <td>69</td>\n",
       "      <td>1 days 06:37:05</td>\n",
       "    </tr>\n",
       "    <tr>\n",
       "      <th>2959</th>\n",
       "      <td>264929</td>\n",
       "      <td>228064</td>\n",
       "      <td>2022-03-06 15:35:03</td>\n",
       "      <td>2022-03-06 18:14:57</td>\n",
       "      <td>0</td>\n",
       "      <td>1500.0</td>\n",
       "      <td>2000.0</td>\n",
       "      <td>51297</td>\n",
       "      <td>COLLECTED</td>\n",
       "      <td>2328</td>\n",
       "      <td>69</td>\n",
       "      <td>0 days 02:39:54</td>\n",
       "    </tr>\n",
       "  </tbody>\n",
       "</table>\n",
       "</div>"
      ],
      "text/plain": [
       "      run_sheet_id   co_id          created_at          updated_at  delays  \\\n",
       "714         303470  432252 2022-04-12 15:07:03 2022-04-12 15:10:16       0   \n",
       "2956        292902  306608 2022-04-01 15:22:10 2022-04-02 17:18:38       0   \n",
       "2957        267876  234675 2022-03-08 13:08:03 2022-03-09 17:52:11       0   \n",
       "2958        280558  257402 2022-03-21 14:47:03 2022-03-22 21:24:08       0   \n",
       "2959        264929  228064 2022-03-06 15:35:03 2022-03-06 18:14:57       0   \n",
       "\n",
       "      initial_amount  final_amount  retailer_id               status  \\\n",
       "714           1000.0         700.0        20790  PARTIALLY_COLLECTED   \n",
       "2956          1500.0        1500.0        51297            COLLECTED   \n",
       "2957          1500.0        1500.0        51297            COLLECTED   \n",
       "2958          1500.0        1500.0        51297            COLLECTED   \n",
       "2959          1500.0        2000.0        51297            COLLECTED   \n",
       "\n",
       "      agent_id district_id response_in_hours  \n",
       "714        428          69   0 days 00:03:13  \n",
       "2956      2326          69   1 days 01:56:28  \n",
       "2957      2250          69   1 days 04:44:08  \n",
       "2958      2681          69   1 days 06:37:05  \n",
       "2959      2328          69   0 days 02:39:54  "
      ]
     },
     "execution_count": 134,
     "metadata": {},
     "output_type": "execute_result"
    }
   ],
   "source": [
    "# get only the data where district_id = 69\n",
    "df_district_69 = df.query(\"district_id == 69\")\n",
    "df_district_69.head()\n"
   ]
  },
  {
   "cell_type": "code",
   "execution_count": 135,
   "metadata": {},
   "outputs": [
    {
     "data": {
      "text/plain": [
       "88"
      ]
     },
     "execution_count": 135,
     "metadata": {},
     "output_type": "execute_result"
    }
   ],
   "source": [
    "# we will find how many retailers located in this district \n",
    "df_district_69[\"agent_id\"].nunique()"
   ]
  },
  {
   "cell_type": "code",
   "execution_count": 136,
   "metadata": {},
   "outputs": [
    {
     "data": {
      "text/plain": [
       "COLLECTED              1819\n",
       "PARTIALLY_COLLECTED     237\n",
       "FAILED                  204\n",
       "Name: status, dtype: int64"
      ]
     },
     "execution_count": 136,
     "metadata": {},
     "output_type": "execute_result"
    }
   ],
   "source": [
    "# we will check the status values for district 69\n",
    "df_district_69[\"status\"].value_counts()"
   ]
  },
  {
   "cell_type": "markdown",
   "metadata": {},
   "source": [
    "so from here we can say that this district has 88 retailers and 15 % of the failed orders in this district happened with only the retailer 48353"
   ]
  },
  {
   "cell_type": "code",
   "execution_count": 137,
   "metadata": {},
   "outputs": [],
   "source": [
    "# get the data with only success status where district id =69\n",
    "df_success_69 = df_success.query(\"district_id == 69\")"
   ]
  },
  {
   "cell_type": "code",
   "execution_count": 138,
   "metadata": {},
   "outputs": [
    {
     "data": {
      "text/plain": [
       "(1819, 12)"
      ]
     },
     "execution_count": 138,
     "metadata": {},
     "output_type": "execute_result"
    }
   ],
   "source": [
    "# getting number of succeeded orders in district 69\n",
    "df_success_69.shape"
   ]
  },
  {
   "cell_type": "code",
   "execution_count": 146,
   "metadata": {},
   "outputs": [
    {
     "data": {
      "text/plain": [
       "(2260, 12)"
      ]
     },
     "execution_count": 146,
     "metadata": {},
     "output_type": "execute_result"
    }
   ],
   "source": [
    "# getting number of total orders in district 69\n",
    "df_district_69.shape"
   ]
  },
  {
   "cell_type": "markdown",
   "metadata": {},
   "source": [
    "for here we can say 80.4 % of the total orders in district 69 ended with a success "
   ]
  },
  {
   "cell_type": "markdown",
   "metadata": {},
   "source": [
    "---------------------------------------------------------------------------------------------------------------------------"
   ]
  },
  {
   "cell_type": "markdown",
   "metadata": {},
   "source": [
    "there is something seems little odd and needs further analysis, which is the difference bewteen updated time and created time at some district is almost 94 days, which doesnt make sense actually, so we will make more analysis about this ditrict"
   ]
  },
  {
   "cell_type": "code",
   "execution_count": 141,
   "metadata": {},
   "outputs": [
    {
     "data": {
      "text/html": [
       "<div>\n",
       "<style scoped>\n",
       "    .dataframe tbody tr th:only-of-type {\n",
       "        vertical-align: middle;\n",
       "    }\n",
       "\n",
       "    .dataframe tbody tr th {\n",
       "        vertical-align: top;\n",
       "    }\n",
       "\n",
       "    .dataframe thead th {\n",
       "        text-align: right;\n",
       "    }\n",
       "</style>\n",
       "<table border=\"1\" class=\"dataframe\">\n",
       "  <thead>\n",
       "    <tr style=\"text-align: right;\">\n",
       "      <th></th>\n",
       "      <th>run_sheet_id</th>\n",
       "      <th>co_id</th>\n",
       "      <th>created_at</th>\n",
       "      <th>updated_at</th>\n",
       "      <th>delays</th>\n",
       "      <th>initial_amount</th>\n",
       "      <th>final_amount</th>\n",
       "      <th>retailer_id</th>\n",
       "      <th>status</th>\n",
       "      <th>agent_id</th>\n",
       "      <th>district_id</th>\n",
       "      <th>response_in_hours</th>\n",
       "    </tr>\n",
       "  </thead>\n",
       "  <tbody>\n",
       "    <tr>\n",
       "      <th>14171</th>\n",
       "      <td>247174</td>\n",
       "      <td>6862</td>\n",
       "      <td>2021-11-10 13:34:03</td>\n",
       "      <td>2022-02-12 15:42:21</td>\n",
       "      <td>0</td>\n",
       "      <td>1000.0</td>\n",
       "      <td>0.0</td>\n",
       "      <td>161115</td>\n",
       "      <td>FAILED</td>\n",
       "      <td>493</td>\n",
       "      <td>86</td>\n",
       "      <td>94 days 02:08:18</td>\n",
       "    </tr>\n",
       "    <tr>\n",
       "      <th>14172</th>\n",
       "      <td>247174</td>\n",
       "      <td>6940</td>\n",
       "      <td>2021-11-10 17:14:11</td>\n",
       "      <td>2022-02-12 15:42:13</td>\n",
       "      <td>0</td>\n",
       "      <td>4000.0</td>\n",
       "      <td>0.0</td>\n",
       "      <td>161115</td>\n",
       "      <td>FAILED</td>\n",
       "      <td>493</td>\n",
       "      <td>86</td>\n",
       "      <td>93 days 22:28:02</td>\n",
       "    </tr>\n",
       "    <tr>\n",
       "      <th>14173</th>\n",
       "      <td>247174</td>\n",
       "      <td>6932</td>\n",
       "      <td>2021-11-10 16:55:03</td>\n",
       "      <td>2022-02-12 15:42:17</td>\n",
       "      <td>0</td>\n",
       "      <td>1000.0</td>\n",
       "      <td>0.0</td>\n",
       "      <td>161115</td>\n",
       "      <td>FAILED</td>\n",
       "      <td>493</td>\n",
       "      <td>86</td>\n",
       "      <td>93 days 22:47:14</td>\n",
       "    </tr>\n",
       "    <tr>\n",
       "      <th>14174</th>\n",
       "      <td>247174</td>\n",
       "      <td>6960</td>\n",
       "      <td>2021-11-10 18:15:03</td>\n",
       "      <td>2022-02-12 15:42:08</td>\n",
       "      <td>0</td>\n",
       "      <td>1000.0</td>\n",
       "      <td>0.0</td>\n",
       "      <td>161115</td>\n",
       "      <td>FAILED</td>\n",
       "      <td>493</td>\n",
       "      <td>86</td>\n",
       "      <td>93 days 21:27:05</td>\n",
       "    </tr>\n",
       "  </tbody>\n",
       "</table>\n",
       "</div>"
      ],
      "text/plain": [
       "       run_sheet_id  co_id          created_at          updated_at  delays  \\\n",
       "14171        247174   6862 2021-11-10 13:34:03 2022-02-12 15:42:21       0   \n",
       "14172        247174   6940 2021-11-10 17:14:11 2022-02-12 15:42:13       0   \n",
       "14173        247174   6932 2021-11-10 16:55:03 2022-02-12 15:42:17       0   \n",
       "14174        247174   6960 2021-11-10 18:15:03 2022-02-12 15:42:08       0   \n",
       "\n",
       "       initial_amount  final_amount  retailer_id  status  agent_id  \\\n",
       "14171          1000.0           0.0       161115  FAILED       493   \n",
       "14172          4000.0           0.0       161115  FAILED       493   \n",
       "14173          1000.0           0.0       161115  FAILED       493   \n",
       "14174          1000.0           0.0       161115  FAILED       493   \n",
       "\n",
       "      district_id response_in_hours  \n",
       "14171          86  94 days 02:08:18  \n",
       "14172          86  93 days 22:28:02  \n",
       "14173          86  93 days 22:47:14  \n",
       "14174          86  93 days 21:27:05  "
      ]
     },
     "execution_count": 141,
     "metadata": {},
     "output_type": "execute_result"
    }
   ],
   "source": [
    "# finding out which district that has time response > 90 days \n",
    "df[df[\"response_in_hours\"] >\"90 days\"]"
   ]
  },
  {
   "cell_type": "markdown",
   "metadata": {},
   "source": [
    "of course all the status in this case is a fail"
   ]
  },
  {
   "cell_type": "code",
   "execution_count": 142,
   "metadata": {},
   "outputs": [],
   "source": [
    "# make analysis about the district_id number 86\n",
    "df_district_86 = df.query(\"district_id == 86\")"
   ]
  },
  {
   "cell_type": "code",
   "execution_count": 143,
   "metadata": {},
   "outputs": [
    {
     "data": {
      "text/plain": [
       "(1344, 12)"
      ]
     },
     "execution_count": 143,
     "metadata": {},
     "output_type": "execute_result"
    }
   ],
   "source": [
    "# checking the new data shape\n",
    "df_district_86.shape"
   ]
  },
  {
   "cell_type": "code",
   "execution_count": 144,
   "metadata": {},
   "outputs": [
    {
     "data": {
      "text/plain": [
       "COLLECTED              1108\n",
       "FAILED                  128\n",
       "PARTIALLY_COLLECTED     108\n",
       "Name: status, dtype: int64"
      ]
     },
     "execution_count": 144,
     "metadata": {},
     "output_type": "execute_result"
    }
   ],
   "source": [
    "# exploring status column\n",
    "df_district_86[\"status\"].value_counts()"
   ]
  },
  {
   "cell_type": "markdown",
   "metadata": {},
   "source": [
    "the numbers here seem reasonable"
   ]
  },
  {
   "cell_type": "code",
   "execution_count": 145,
   "metadata": {},
   "outputs": [
    {
     "data": {
      "text/plain": [
       "Timedelta('0 days 23:04:45.198660')"
      ]
     },
     "execution_count": 145,
     "metadata": {},
     "output_type": "execute_result"
    }
   ],
   "source": [
    "df_district_86[\"response_in_hours\"].mean()"
   ]
  },
  {
   "cell_type": "markdown",
   "metadata": {},
   "source": [
    "the average time in response is high because of these 4 rows, and it could be just outliers"
   ]
  }
 ],
 "metadata": {
  "kernelspec": {
   "display_name": "Python 3",
   "language": "python",
   "name": "python3"
  },
  "language_info": {
   "codemirror_mode": {
    "name": "ipython",
    "version": 3
   },
   "file_extension": ".py",
   "mimetype": "text/x-python",
   "name": "python",
   "nbconvert_exporter": "python",
   "pygments_lexer": "ipython3",
   "version": "3.7.6"
  }
 },
 "nbformat": 4,
 "nbformat_minor": 4
}
